{
 "cells": [
  {
   "cell_type": "markdown",
   "id": "4e391e4b",
   "metadata": {},
   "source": [
    "AMA - Lista 01\n",
    "\n",
    "**Questão 1**\n",
    "\n",
    "Considere o conjunto de dados disponível em _articial1d.csv_ organizado em duas colunas, x e y. Seja um modelo de regressão linear para yˆ = f(x).\n",
    "\n",
    "**a)** Apresente os parâmetros do modelo e o MSE (erro quadrático médio) obtidos pelo algoritmo OLS (mínimos quadrados ordinários). Plote a reta resultante sobre os dados.\n",
    "\n",
    "**b)** Apresente os parâmetros do modelo, o MSE e a curva de aprendizagem obtidos pelo algoritmo GD (gradiente descendente). Plote a reta resultante sobre os dados.\n",
    "\n",
    "**c)** Apresente os parâmetros do modelo, o MSE e a curva de aprendizagem obtidos pelo algoritmo SGD (gradiente descendente estocástico). Plote a reta resultante sobre os dados.\n",
    "\n",
    "\n",
    "\n",
    "\n",
    "\n",
    "_**RESOLUÇÃO**_\n",
    "\n",
    "\n",
    "**a)** Apresente os parâmetros do modelo e o MSE (erro quadrático médio) obtidos pelo algoritmo OLS (mínimos quadrados ordinários). Plote a reta resultante sobre os dados."
   ]
  },
  {
   "cell_type": "markdown",
   "id": "8b0c00ee",
   "metadata": {},
   "source": [
    "$$\\begin{aligned}\n",
    "\\hat{\\boldsymbol{y}} = \\boldsymbol{X}\\boldsymbol{w}\\\\\n",
    "\\text{}\\\\\n",
    "\\hat{\\boldsymbol{w}} = \\arg\\min_{\\boldsymbol{w}} ||\\boldsymbol{y} - \\boldsymbol{X}\\boldsymbol{w}||^2\n",
    "\\end{aligned}$$\n",
    "\n",
    "$$\\hat{\\boldsymbol{w}} = (\\boldsymbol{X}^{\\top}\\boldsymbol{X})^{-1} \\boldsymbol{X}^{\\top}\\boldsymbol{y}$$\n",
    "\n",
    "\n",
    "$$\\boldsymbol{X} = [\\mathbf{1}^{\\top} \\;,\\; \\mathtt{artificial1d[:,[0,1]}]\\\\\n",
    "\\boldsymbol{y} = \\mathtt{artificial1d[:,[2]]}$$\n",
    "\n",
    "\n",
    "$$\\mathrm{MSE} = {\\frac{1}{n}\\sum_i^n (\\boldsymbol{y} - \\hat{\\boldsymbol{y}})^2}$$"
   ]
  },
  {
   "cell_type": "code",
   "execution_count": 1,
   "id": "f4a44171",
   "metadata": {
    "ExecuteTime": {
     "end_time": "2022-04-24T23:15:23.963227Z",
     "start_time": "2022-04-24T23:15:22.605734Z"
    },
    "code_folding": []
   },
   "outputs": [],
   "source": [
    "#Importing Libs in order to solve the problems;\n",
    "\n",
    "import numpy as np\n",
    "import math\n",
    "\n",
    "#Importing Other Plot Libs;\n",
    "import matplotlib.pyplot as plt\n",
    "\n",
    "##### Sklearn - Used Just To Split The Train and Test data over the first question; \n",
    "#### On the second question one, I've just split it manually as requested;\n",
    "from sklearn.model_selection import train_test_split \n"
   ]
  },
  {
   "cell_type": "code",
   "execution_count": 2,
   "id": "ac10aeba",
   "metadata": {
    "ExecuteTime": {
     "end_time": "2022-04-24T23:16:17.872148Z",
     "start_time": "2022-04-24T23:16:17.710846Z"
    },
    "code_folding": [],
    "scrolled": false
   },
   "outputs": [
    {
     "name": "stdout",
     "output_type": "stream",
     "text": [
      "MSE: \t 0.27703277239017177\n",
      "W: \t [[0.09353807]\n",
      " [1.76590678]]\n"
     ]
    },
    {
     "data": {
      "image/png": "[encoded data removed]",
      "text/plain": [
       "<Figure size 432x288 with 1 Axes>"
      ]
     },
     "metadata": {
      "needs_background": "light"
     },
     "output_type": "display_data"
    }
   ],
   "source": [
    "###Linear Regression\n",
    "\n",
    "#Loading the dataset;\n",
    "a_ds = np.genfromtxt('./artificial1d.csv', delimiter=',')\n",
    "\n",
    "#LinearRegression Function\n",
    "def LinearRegression(dataset):\n",
    "    #Spliting the X and Y data;\n",
    "    y_a = a_ds[:,[1]]\n",
    "    x_a = a_ds[:,[0]]\n",
    "\n",
    "    #Creating an ones range-\"column\"\n",
    "    onecolumn_a = np.ones(x_a.shape[0])\n",
    "\n",
    "    #Getting a Linear Model\n",
    "    X_a = np.c_[onecolumn_a, x_a]\n",
    "\n",
    "    #Splitting the data in Train and Test datas;\n",
    "    X_a_train, X_a_test, y_a_train, y_a_test = train_test_split(X_a, y_a)\n",
    "\n",
    "    #The Normal Equation as seen above\n",
    "    w_a_pred = (np.linalg.inv((X_a_train.T @ X_a_train)) @ X_a_train.T) @ y_a_train #Theta function;\n",
    "\n",
    "    #Creating the y_predict for the X_Text and for all Model OUTPUTS;\n",
    "    y_a_pred = X_a_test @ w_a_pred\n",
    "    y_a_pred_all = X_a @ w_a_pred\n",
    "\n",
    "    #Getting y_Test Size/Shape\n",
    "    n_a = y_a_test.shape[0]\n",
    "\n",
    "    #Calculing the RMSE ()\n",
    "    mse_a = (1/n_a) * ((y_a_test - y_a_pred)**2).sum()\n",
    "    \n",
    "    print(\"MSE: \\t\", mse_a)\n",
    "    print(\"W: \\t\", w_a_pred)\n",
    "    plt.scatter(x_a, y_a, color='steelblue', label='Data', marker=\"s\")\n",
    "    plt.plot(x_a, y_a_pred_all, color='tomato', label='Predictions')\n",
    "    plt.xlabel(\"X-axis\")\n",
    "    plt.ylabel(\"Y-axis\")\n",
    "    plt.legend()\n",
    "    plt.title(\"Linear Regression\", size=16)\n",
    "    plt.show()\n",
    "    \n",
    "LinearRegression(a_ds)"
   ]
  },
  {
   "cell_type": "markdown",
   "id": "0b61d1f0",
   "metadata": {},
   "source": [
    "**b)** Apresente os parâmetros do modelo, o MSE e a curva de aprendizagem obtidos pelo algoritmo GD (gradiente descendente). Plote a reta resultante sobre os dados.\n",
    "\n",
    "\n",
    "$$\\boldsymbol{w}(t) = \\boldsymbol{w}(t-1) + \\alpha \\frac{1}{N}\\sum_{i=1}^{N} e_i(t-1) \\boldsymbol{x}_i\\\\\n",
    "\\text{em que } e_i(t-1) = y_i - \\boldsymbol{w}^{\\top}(t-1)\\boldsymbol{x}_i$$"
   ]
  },
  {
   "cell_type": "code",
   "execution_count": 4,
   "id": "3f5ff742",
   "metadata": {
    "ExecuteTime": {
     "end_time": "2022-04-24T23:16:32.456706Z",
     "start_time": "2022-04-24T23:16:32.291125Z"
    },
    "code_folding": [
     0
    ],
    "scrolled": false
   },
   "outputs": [
    {
     "name": "stdout",
     "output_type": "stream",
     "text": [
      "Learning Rate: \t 0.1\n",
      "Interations: \t 1000\n",
      "MSE: \t\t 0.2134009013293699\n",
      "W: \t\t [0.06761792 1.57486517]\n"
     ]
    },
    {
     "data": {
      "image/png": "[encoded data removed]",
      "text/plain": [
       "<Figure size 1296x360 with 2 Axes>"
      ]
     },
     "metadata": {
      "needs_background": "light"
     },
     "output_type": "display_data"
    }
   ],
   "source": [
    "###Linear Regression via Gradient Descent\n",
    "#Dataset has been loaded already;\n",
    "#LinearRegression via Gradient Descent Function\n",
    "def GradDesc(dataset):\n",
    "    y_b = dataset[:,[1]]\n",
    "    x_b = dataset[:,[0]]\n",
    "\n",
    "    onecolumn_b = np.ones(x_b.shape[0])\n",
    "\n",
    "    X_b = np.c_[onecolumn_b, x_b]\n",
    "    w_b_pred = np.zeros(X_b.shape[1])\n",
    "\n",
    "    alpha_b = 0.1\n",
    "    epoch_b = 1000\n",
    "\n",
    "    y_b_pred = w_b_pred[0]  + w_b_pred[1]*X_b[:,[1]]\n",
    "    err_b = y_b - y_b_pred\n",
    "\n",
    "    err_list_b = [((err_b)**2).sum()/(X_b.shape[0]*2)]\n",
    "\n",
    "    for e in range (0, epoch_b):\n",
    "        w_b_pred[0] = w_b_pred[0] + (alpha_b*(1/X_b.shape[0])*err_b.sum())\n",
    "        w_b_pred[1] = w_b_pred[1] + (alpha_b*(1/X_b.shape[0])* (err_b*X_b[:,[1]]).sum())\n",
    "\n",
    "        y_b_pred = w_b_pred[0] + w_b_pred[1] * X_b[:,[1]]\n",
    "        err_b = y_b - y_b_pred\n",
    "\n",
    "        err_list_b.append(((err_b)**2).sum()/(X_b.shape[0]*2))\n",
    "\n",
    "    mse_b = (1/X_b.shape[0]) * ((y_b - y_b_pred)**2).sum()\n",
    "    \n",
    "    print(\"Learning Rate: \\t\", alpha_b)\n",
    "    print(\"Interations: \\t\", epoch_b)\n",
    "    print(\"MSE: \\t\\t\", mse_b)\n",
    "    print(\"W: \\t\\t\", w_b_pred)\n",
    "    plt.subplot(1, 2, 1) # row 1, col 2 index 1\n",
    "    plt.plot(range(0,len(err_list_b)),err_list_b)\n",
    "    plt.rcParams[\"figure.figsize\"] = [18,5]\n",
    "    plt.title(\"Learning Curve\")\n",
    "    plt.xlabel('X-axis')\n",
    "    plt.ylabel('Y-axis')\n",
    "\n",
    "    plt.subplot(1, 2, 2) # index 2\n",
    "    plt.scatter(x_b, y_b, color='steelblue', label='Data', marker=\"s\")\n",
    "    plt.plot(x_b, y_b_pred, color='tomato', label='Predictions')\n",
    "    plt.title(\"LR - Gradient Descent\")\n",
    "    plt.xlabel('X-axis')\n",
    "    plt.ylabel('Y-axis')\n",
    "    plt.suptitle(\"Linear Regression via Gradient Descent\", size=16)\n",
    "    plt.show()\n",
    "\n",
    "GradDesc(a_ds)"
   ]
  },
  {
   "cell_type": "markdown",
   "id": "96b8e842",
   "metadata": {},
   "source": [
    "**c)** Apresente os parâmetros do modelo, o MSE e a curva de aprendizagem obtidos pelo algoritmo SGD (gradiente descendente estocástico). Plote a reta resultante sobre os dados."
   ]
  },
  {
   "cell_type": "markdown",
   "id": "3740143c",
   "metadata": {},
   "source": [
    "\n",
    "$$\\boldsymbol{w}(t) = \\boldsymbol{w}(t-1) + \\alpha e_i(t-1) \\boldsymbol{x}_i\\\\\n",
    "\\text{em que } e_i(t-1) = y_i - \\boldsymbol{w}^{\\top}(t-1)\\boldsymbol{x}_i$$"
   ]
  },
  {
   "cell_type": "code",
   "execution_count": 5,
   "id": "71d1584b",
   "metadata": {
    "ExecuteTime": {
     "end_time": "2022-04-24T23:16:37.723230Z",
     "start_time": "2022-04-24T23:16:37.262295Z"
    },
    "code_folding": [
     0
    ]
   },
   "outputs": [
    {
     "name": "stdout",
     "output_type": "stream",
     "text": [
      "Learning Rate: \t 0.01\n",
      "Interations: \t 1000\n",
      "MSE: \t\t 0.21340148246949403\n",
      "W: \t\t [0.06769927 1.57613496]\n"
     ]
    },
    {
     "data": {
      "image/png": "[encoded data removed]",
      "text/plain": [
       "<Figure size 1296x360 with 2 Axes>"
      ]
     },
     "metadata": {
      "needs_background": "light"
     },
     "output_type": "display_data"
    }
   ],
   "source": [
    "###Linear Regression via Gradient Descent Stochast\n",
    "def GradDescS(dataset):\n",
    "    y_c = dataset[:,[1]] #Comprimento - Saída do Modelo\n",
    "    x_c = dataset[:,[0]]\n",
    "    onecolumn_c = np.ones(x_c.shape[0])\n",
    "\n",
    "    X_c = np.c_[onecolumn_c, x_c]\n",
    "\n",
    "    w_c_pred = np.zeros(X_c.shape[1])\n",
    "\n",
    "    alpha_c = 0.01\n",
    "\n",
    "    epoch_c = 1000\n",
    "\n",
    "    y_c_pred = w_c_pred[0]  + w_c_pred[1]*X_c[:,[1]]\n",
    "\n",
    "    err_list_c = []\n",
    "\n",
    "    for each_c in range(0, epoch_c):\n",
    "        #\"Misturar\" dataset\n",
    "        shuffler_c = np.random.permutation(a_ds.shape[0])\n",
    "        X_c_new = X_c[shuffler_c]\n",
    "        y_c_new = y_c[shuffler_c]\n",
    "        error_sum_c = 0    \n",
    "\n",
    "        for i in range(0, X_c_new.shape[0]):\n",
    "\n",
    "            y_c_pred = w_c_pred[0] + w_c_pred[1] * X_c_new[i,[1]]\n",
    "            err_c = y_c_new[i] - y_c_pred\n",
    "            w_c_pred[0] = w_c_pred[0] + alpha_c * err_c\n",
    "            w_c_pred[1] = w_c_pred[1] + alpha_c * (err_c*X_c_new[i,[1]])\n",
    "\n",
    "            error_sum_c += (err_c)**2\n",
    "\n",
    "        err_list_c.append(error_sum_c/(2*X_c_new.shape[0]))\n",
    "\n",
    "    y_c_pred = w_c_pred[0] + w_c_pred[1] * X_c[:,[1]]   \n",
    "    \n",
    "    mse_c = (1/X_c.shape[0]) * ((y_c - y_c_pred)**2).sum()\n",
    "    \n",
    "    print(\"Learning Rate: \\t\", alpha_c)\n",
    "    print(\"Interations: \\t\", epoch_c)\n",
    "    print(\"MSE: \\t\\t\", mse_c)\n",
    "    print(\"W: \\t\\t\", w_c_pred)\n",
    "    plt.subplot(1, 2, 1) # row 1, col 2 index 1\n",
    "    plt.plot(range(0,len(err_list_c)),err_list_c)\n",
    "    plt.rcParams[\"figure.figsize\"] = [15,5]\n",
    "    plt.title(\"Learning Curve\")\n",
    "    plt.xlabel('X-axis')\n",
    "    plt.ylabel('Y-axis')\n",
    "\n",
    "    plt.subplot(1, 2, 2) # index 2\n",
    "    plt.scatter(x_c, y_c, color='steelblue', label='Data', marker=\"s\")\n",
    "    plt.plot(x_c, y_c_pred, color='tomato', label='Predictions')\n",
    "    plt.title(\"Linear Regression - SGD\")\n",
    "    plt.xlabel('X-axis')\n",
    "    plt.ylabel('Y-axis')\n",
    "    plt.suptitle(\"Linear Regression via Stochastic Gradient Descent\", size=18)\n",
    "    plt.show()\n",
    "\n",
    "GradDescS(a_ds)"
   ]
  },
  {
   "cell_type": "markdown",
   "id": "7643e689",
   "metadata": {},
   "source": [
    "**Questão 2**\n",
    "\n",
    "Considere o conjunto de dados disponível em california.csv, organizado em 9 colunas, sendo as 8 primeiras colunas os atributos e a última coluna a saída.\n",
    "Os 8 atributos são usados na predição da mediana de preços de casas em distritos da Califórnia na década de 1990. Maiores detalhes sobre os dados podem ser conferidos em https://scikit-learn.org/stable/datasets/real_world.html#california-housing-dataset.\n",
    "\n",
    "**a)** Aleatoriamente, divida o conjunto de dados em treino (80%) e teste (20%).\n",
    "\n",
    "**b)** Treine 11 modelos de regressão polinomial, com ordens de 1 a 11. Você pode usar o algoritmo OLS.\n",
    "\n",
    "**c)** Reporte o RMSE (raiz quadrada do erro quadrático médio) no treinamento e no teste para cada modelo. Faça um gráfico para o treino e um gráfico para o teste.\n",
    "\n",
    "**d)** Repita os 2 itens anteriores incluindo um termo de regularização L2 (por exemplo, com fator λ = 0.001).\n",
    "Nota: Normalize os dados antes do treinamento e _desnormalize_ antes de calcular o RMSE.\n",
    "\n",
    "\n",
    "**RESOLUÇÃO:**\n",
    "\n",
    "**a)** Aleatoriamente, divida o conjunto de dados em treino (80%) e teste (20%)."
   ]
  },
  {
   "cell_type": "code",
   "execution_count": 6,
   "id": "2f7bd631",
   "metadata": {
    "ExecuteTime": {
     "end_time": "2022-04-24T23:16:48.309528Z",
     "start_time": "2022-04-24T23:16:48.223351Z"
    },
    "code_folding": []
   },
   "outputs": [],
   "source": [
    "#Loding California DataSet\n",
    "ca_ds = np.genfromtxt('./california.csv', delimiter=',')"
   ]
  },
  {
   "cell_type": "code",
   "execution_count": 7,
   "id": "38b97e5e",
   "metadata": {
    "ExecuteTime": {
     "end_time": "2022-04-24T23:16:50.577565Z",
     "start_time": "2022-04-24T23:16:50.558787Z"
    },
    "code_folding": []
   },
   "outputs": [],
   "source": [
    "#Normalizing the X_Data with Zscore\n",
    "def NormZscore(data):\n",
    "    mean = np.mean(data, axis = 0)\n",
    "    data_int = data - mean\n",
    "    sdt = np.std(data, axis = 0)\n",
    "    data_norm = data_int / sdt\n",
    "\n",
    "    return data_norm, mean, sdt\n",
    "\n",
    "def DesnZscore(data,m,s):\n",
    "    return data * s + m"
   ]
  },
  {
   "cell_type": "code",
   "execution_count": 8,
   "id": "055302a3",
   "metadata": {
    "ExecuteTime": {
     "end_time": "2022-04-24T23:16:52.552148Z",
     "start_time": "2022-04-24T23:16:52.542085Z"
    },
    "code_folding": []
   },
   "outputs": [],
   "source": [
    "#Ramdom Dataset and split it into 80% and 20%\n",
    "def ShurffleandSplit(dataset):\n",
    "    \n",
    "    shuf = np.random.permutation(dataset)\n",
    "    n = shuf.shape[0]\n",
    "\n",
    "    perc_oitenta = int(0.8*n)\n",
    "    perc_vinte = int(0.2*n)\n",
    "    \n",
    "    return perc_oitenta, perc_vinte"
   ]
  },
  {
   "cell_type": "code",
   "execution_count": 9,
   "id": "5861d189",
   "metadata": {
    "ExecuteTime": {
     "end_time": "2022-04-24T23:16:54.461483Z",
     "start_time": "2022-04-24T23:16:54.445332Z"
    },
    "code_folding": []
   },
   "outputs": [],
   "source": [
    "x = ca_ds[:,0:7]\n",
    "y = ca_ds[:,[8]]\n",
    "\n",
    "perc_oitenta, perc_vinte = ShurffleandSplit(np.c_[x, y])\n"
   ]
  },
  {
   "cell_type": "code",
   "execution_count": 10,
   "id": "02bc65cb",
   "metadata": {
    "ExecuteTime": {
     "end_time": "2022-04-24T23:16:56.482879Z",
     "start_time": "2022-04-24T23:16:56.476660Z"
    },
    "code_folding": []
   },
   "outputs": [],
   "source": [
    "def OLS(x, y, p8, p2):\n",
    "    xnorm, me, sd = NormZscore(x)\n",
    "    \n",
    "    x_train, x_test = xnorm[0:p8], xnorm[-p2:]\n",
    "    y_train, y_test = y[0:p8], y[-p2:]\n",
    "\n",
    "    onecolumn_train = np.ones(x_train.shape[0])\n",
    "    onecolumn_test = np.ones(x_test.shape[0])\n",
    "\n",
    "    #Constante - 1's\n",
    "    X_train = np.c_[onecolumn_train, x_train]\n",
    "    X_test = np.c_[onecolumn_test, x_test]\n",
    "\n",
    "    w_pred = (np.linalg.inv((X_train.T @ X_train)) @ X_train.T) @ y_train #Theta function;\n",
    "\n",
    "    x_desn_train = DesnZscore(x_train, me, sd)\n",
    "    x_desn_test = DesnZscore(x_test, me, sd)\n",
    "\n",
    "    X_train_des = np.c_[onecolumn_train, x_desn_train]\n",
    "    X_test_des = np.c_[onecolumn_test, x_desn_test]\n",
    "\n",
    "    y_pred_train = X_train_des @ w_pred\n",
    "    y_pred_test = X_test_des @ w_pred\n",
    "\n",
    "    n_train = y_train.shape[0]\n",
    "    n_test = y_test.shape[0]\n",
    "\n",
    "    rmse_train = math.sqrt((1/n_train) * ((y_train - y_pred_train)**2).sum())\n",
    "    rmse_test = math.sqrt((1/n_test) * ((y_test - y_pred_test)**2).sum())\n",
    "    \n",
    "    return rmse_train, rmse_test, w_pred"
   ]
  },
  {
   "cell_type": "markdown",
   "id": "7d3db024",
   "metadata": {},
   "source": [
    "**b)** Treine 11 modelos de regressão polinomial, com ordens de 1 a 11. Você pode usar o algoritmo OLS.\n",
    "\n",
    "**c)** Reporte o RMSE (raiz quadrada do erro quadrático médio) no treinamento e no teste para cada modelo. Faça um gráfico para o treino e um gráfico para o teste."
   ]
  },
  {
   "cell_type": "code",
   "execution_count": 11,
   "id": "998f2f66",
   "metadata": {
    "ExecuteTime": {
     "end_time": "2022-04-24T23:17:01.822743Z",
     "start_time": "2022-04-24T23:17:01.669477Z"
    },
    "code_folding": [],
    "scrolled": false
   },
   "outputs": [
    {
     "data": {
      "image/png": "[encoded data removed]",
      "text/plain": [
       "<Figure size 1080x360 with 1 Axes>"
      ]
     },
     "metadata": {
      "needs_background": "light"
     },
     "output_type": "display_data"
    }
   ],
   "source": [
    "#defining Polinomial Regression\n",
    "\n",
    "ols_pol = [OLS(x, y, perc_oitenta, perc_vinte)]\n",
    "\n",
    "for i in range(2,12):\n",
    "    column_pol = (x)**i\n",
    "    \n",
    "    # # #Creating a New Matrix Adding the Polinomial Column at Begin.\n",
    "    ca_ds_n = np.c_[x, column_pol]\n",
    "    \n",
    "    # # #Appending The Results - \n",
    "    ols_pol.append(OLS(ca_ds_n, y, perc_oitenta, perc_vinte))\n",
    "\n",
    "ols_pol = np.array(ols_pol, dtype=object)\n",
    "\n",
    "rmse_train_all = np.array(ols_pol[:,[0]], dtype=float)\n",
    "rmse_test_all = np.array(ols_pol[:,[1]], dtype=float)\n",
    "\n",
    "#print(rmse_train_all, rmse_test_all)\n",
    "plt.plot(range(1,12), np.log10(rmse_train_all), color='tomato', label='Train')\n",
    "plt.plot(range(1,12), np.log10(rmse_test_all), color='blue', label='Test')\n",
    "plt.xlabel(\"Polinom\")\n",
    "plt.ylabel(\"RMSE\")\n",
    "plt.rcParams[\"figure.figsize\"] = [10,5]\n",
    "plt.legend()\n",
    "plt.show()"
   ]
  },
  {
   "cell_type": "markdown",
   "id": "baeb9cf5",
   "metadata": {},
   "source": [
    "**d)** Repita os 2 itens anteriores incluindo um termo de regularização L2 (por exemplo, com fator λ = 0.001)."
   ]
  },
  {
   "cell_type": "code",
   "execution_count": 12,
   "id": "674e188d",
   "metadata": {
    "ExecuteTime": {
     "end_time": "2022-04-24T23:17:12.334415Z",
     "start_time": "2022-04-24T23:17:12.314128Z"
    },
    "code_folding": []
   },
   "outputs": [],
   "source": [
    "def OLSREG(x, y, p8, p2):\n",
    "    l = 0.001\n",
    "    \n",
    "    xnorm, me, sd = NormZscore(x)\n",
    "    \n",
    "    x_train, x_test = xnorm[0:p8], xnorm[-p2:]\n",
    "    y_train, y_test = y[0:p8], y[-p2:]\n",
    "\n",
    "    onecolumn_train = np.ones(x_train.shape[0])\n",
    "    onecolumn_test = np.ones(x_test.shape[0])\n",
    "\n",
    "    #Constante - 1's\n",
    "    X_train = np.c_[onecolumn_train, x_train]\n",
    "    X_test = np.c_[onecolumn_test, x_test]\n",
    "    \n",
    "    m_identity = np.identity(X_train.shape[1])\n",
    "    m_identity[0,0] = 0\n",
    "    \n",
    "    w_pred = (np.linalg.inv((X_train.T @ X_train + l*m_identity)) @ X_train.T) @ y_train #Theta function;\n",
    "\n",
    "    x_desn_train = DesnZscore(x_train, me, sd)\n",
    "    x_desn_test = DesnZscore(x_test, me, sd)\n",
    "\n",
    "    X_train_des = np.c_[onecolumn_train, x_desn_train]\n",
    "    X_test_des = np.c_[onecolumn_test, x_desn_test]\n",
    "\n",
    "    y_pred_train = X_train_des @ w_pred\n",
    "    y_pred_test = X_test_des @ w_pred\n",
    "\n",
    "    n_train = y_train.shape[0]\n",
    "    n_test = y_test.shape[0]\n",
    "\n",
    "    rmse_train = math.sqrt((1/n_train) * ((y_train - y_pred_train)**2).sum())\n",
    "    rmse_test = math.sqrt((1/n_test) * ((y_test - y_pred_test)**2).sum())\n",
    "    \n",
    "    return rmse_train, rmse_test, w_pred"
   ]
  },
  {
   "cell_type": "code",
   "execution_count": 29,
   "id": "c139b8f5",
   "metadata": {
    "ExecuteTime": {
     "end_time": "2022-04-24T23:26:46.645308Z",
     "start_time": "2022-04-24T23:26:46.511886Z"
    },
    "code_folding": []
   },
   "outputs": [
    {
     "name": "stdout",
     "output_type": "stream",
     "text": [
      "Test and Train RMSE Values\n",
      "---------------------------------\n",
      "[[4.37551752e+01 4.37551548e+01]\n",
      " [9.54885905e+04 9.54544947e+04]\n",
      " [4.09092770e+08 4.08927945e+08]\n",
      " [3.09123782e+12 3.08984234e+12]\n",
      " [3.22586245e+16 3.22439089e+16]\n",
      " [3.95507516e+20 3.95338047e+20]\n",
      " [5.12413831e+24 5.12211460e+24]\n",
      " [6.71380200e+28 6.71134577e+28]\n",
      " [8.76824892e+32 8.76524332e+32]\n",
      " [1.13714585e+37 1.13677636e+37]\n",
      " [1.46413036e+41 1.46367473e+41]]\n",
      "---------------------------------\n"
     ]
    },
    {
     "data": {
      "image/png": "[encoded data removed]",
      "text/plain": [
       "<Figure size 720x360 with 1 Axes>"
      ]
     },
     "metadata": {
      "needs_background": "light"
     },
     "output_type": "display_data"
    }
   ],
   "source": [
    "#defining Polinomial Regression\n",
    "\n",
    "ols_pol_reg = [OLSREG(x, y, perc_oitenta, perc_vinte)]\n",
    "\n",
    "for i in range(2,12):\n",
    "    column_pol_reg = (x)**i\n",
    "    \n",
    "    # # #Creating a New Matrix Adding the Polinomial Column at Begin.\n",
    "    ca_ds_n_reg = np.c_[x, column_pol_reg]\n",
    "    \n",
    "    # # #Appending The Results - \n",
    "    ols_pol_reg.append(OLSREG(ca_ds_n_reg, y, perc_oitenta, perc_vinte))\n",
    "\n",
    "ols_pol_reg = np.array(ols_pol_reg, dtype=object)\n",
    "\n",
    "rmse_train_all_reg = np.array(ols_pol_reg[:,[0]], dtype=float)\n",
    "rmse_test_all_reg = np.array(ols_pol_reg[:,[1]], dtype=float)\n",
    "\n",
    "print('Test and Train RMSE Values')\n",
    "print('-' * 33)\n",
    "print(np.c_[rmse_test_all, rmse_test_all_reg])\n",
    "print('-' * 33)\n",
    "plt.plot(range(1,12), np.log10(rmse_train_all_reg), color='tomato', label='Train')\n",
    "plt.plot(range(1,12), np.log10(rmse_test_all_reg), color='blue', label='Test')\n",
    "plt.xlabel(\"Polinom\")\n",
    "plt.ylabel(\"RMSE\")\n",
    "plt.rcParams[\"figure.figsize\"] = [10,5]\n",
    "plt.legend()\n",
    "plt.show()"
   ]
  }
 ],
 "metadata": {
  "gist": {
   "data": {
    "description": "Machine Learning - Lista01.ipynb",
    "public": true
   },
   "id": ""
  },
  "kernelspec": {
   "display_name": "Python 3 (ipykernel)",
   "language": "python",
   "name": "python3"
  },
  "language_info": {
   "codemirror_mode": {
    "name": "ipython",
    "version": 3
   },
   "file_extension": ".py",
   "mimetype": "text/x-python",
   "name": "python",
   "nbconvert_exporter": "python",
   "pygments_lexer": "ipython3",
   "version": "3.9.7"
  },
  "latex_envs": {
   "LaTeX_envs_menu_present": true,
   "autoclose": false,
   "autocomplete": true,
   "bibliofile": "biblio.bib",
   "cite_by": "apalike",
   "current_citInitial": 1,
   "eqLabelWithNumbers": true,
   "eqNumInitial": 1,
   "hotkeys": {
    "equation": "Ctrl-E",
    "itemize": "Ctrl-I"
   },
   "labels_anchors": false,
   "latex_user_defs": false,
   "report_style_numbering": false,
   "user_envs_cfg": false
  }
 },
 "nbformat": 4,
 "nbformat_minor": 5
}
