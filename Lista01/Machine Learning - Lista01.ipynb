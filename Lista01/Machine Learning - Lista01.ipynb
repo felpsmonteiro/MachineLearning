{
 "cells": [
  {
   "cell_type": "markdown",
   "id": "4e391e4b",
   "metadata": {},
   "source": [
    "AMA - Lista 01\n",
    "\n",
    "**Questão 1**\n",
    "\n",
    "Considere o conjunto de dados disponível em _articial1d.csv_ organizado em duas colunas, x e y. Seja um modelo de regressão linear para yˆ = f(x).\n",
    "\n",
    "**a)** Apresente os parâmetros do modelo e o MSE (erro quadrático médio) obtidos pelo algoritmo OLS (mínimos quadrados ordinários). Plote a reta resultante sobre os dados.\n",
    "\n",
    "**b)** Apresente os parâmetros do modelo, o MSE e a curva de aprendizagem obtidos pelo algoritmo GD (gradiente descendente). Plote a reta resultante sobre os dados.\n",
    "\n",
    "**c)** Apresente os parâmetros do modelo, o MSE e a curva de aprendizagem obtidos pelo algoritmo SGD (gradiente descendente estocástico). Plote a reta resultante sobre os dados.\n",
    "\n",
    "\n",
    "\n",
    "\n",
    "\n",
    "_**RESOLUÇÃO**_\n",
    "\n",
    "\n",
    "**a)** Apresente os parâmetros do modelo e o MSE (erro quadrático médio) obtidos pelo algoritmo OLS (mínimos quadrados ordinários). Plote a reta resultante sobre os dados."
   ]
  },
  {
   "cell_type": "markdown",
   "id": "8b0c00ee",
   "metadata": {},
   "source": [
    "$$\\begin{aligned}\n",
    "\\hat{\\boldsymbol{y}} = \\boldsymbol{X}\\boldsymbol{w}\\\\\n",
    "\\text{}\\\\\n",
    "\\hat{\\boldsymbol{w}} = \\arg\\min_{\\boldsymbol{w}} ||\\boldsymbol{y} - \\boldsymbol{X}\\boldsymbol{w}||^2\n",
    "\\end{aligned}$$\n",
    "\n",
    "$$\\hat{\\boldsymbol{w}} = (\\boldsymbol{X}^{\\top}\\boldsymbol{X})^{-1} \\boldsymbol{X}^{\\top}\\boldsymbol{y}$$\n",
    "\n",
    "\n",
    "$$\\boldsymbol{X} = [\\mathbf{1}^{\\top} \\;,\\; \\mathtt{artificial1d[:,[0,1]}]\\\\\n",
    "\\boldsymbol{y} = \\mathtt{artificial1d[:,[2]]}$$\n",
    "\n",
    "\n",
    "$$\\mathrm{MSE} = {\\frac{1}{n}\\sum_i^n (\\boldsymbol{y} - \\hat{\\boldsymbol{y}})^2}$$"
   ]
  },
  {
   "cell_type": "code",
   "execution_count": 1,
   "id": "f4a44171",
   "metadata": {
    "ExecuteTime": {
     "end_time": "2022-04-20T18:39:36.080694Z",
     "start_time": "2022-04-20T18:39:34.919653Z"
    },
    "code_folding": [
     0
    ]
   },
   "outputs": [],
   "source": [
    "#Importing Libs in order to solve the problem;\n",
    "\n",
    "import numpy as np\n",
    "import math\n",
    "\n",
    "#Importing Other Plot Libs;\n",
    "import matplotlib.pyplot as plt\n",
    "\n",
    "##### Sklearn - Used Just To Split The Train and Test data;######\n",
    "from sklearn.model_selection import train_test_split \n"
   ]
  },
  {
   "cell_type": "code",
   "execution_count": null,
   "id": "ac10aeba",
   "metadata": {
    "ExecuteTime": {
     "end_time": "2022-04-20T18:26:27.726372Z",
     "start_time": "2022-04-20T18:26:27.553432Z"
    },
    "code_folding": [
     0
    ],
    "scrolled": false
   },
   "outputs": [],
   "source": [
    "###Linear Regression\n",
    "\n",
    "#Loading the dataset;\n",
    "a_ds = np.genfromtxt('./artificial1d.csv', delimiter=',')\n",
    "\n",
    "#LinearRegression Function\n",
    "def LinearRegression(dataset):\n",
    "    #Spliting the X and Y data;\n",
    "    y_a = a_ds[:,[1]]\n",
    "    x_a = a_ds[:,[0]]\n",
    "\n",
    "    #Creating an ones range-\"column\"\n",
    "    onecolumn_a = np.ones(x_a.shape[0])\n",
    "\n",
    "    #Getting a Linear Model\n",
    "    X_a = np.c_[onecolumn_a, x_a]\n",
    "\n",
    "    #Splitting the data in Train and Test datas;\n",
    "    X_a_train, X_a_test, y_a_train, y_a_test = train_test_split(X_a, y_a)\n",
    "\n",
    "    #The Normal Equation as seen above\n",
    "    w_a_pred = (np.linalg.inv((X_a_train.T @ X_a_train)) @ X_a_train.T) @ y_a_train #Theta function;\n",
    "\n",
    "    #Creating the y_predict for the X_Text and for all Model OUTPUTS;\n",
    "    y_a_pred = X_a_test @ w_a_pred\n",
    "    y_a_pred_all = X_a @ w_a_pred\n",
    "\n",
    "    #Getting y_Test Size/Shape\n",
    "    n_a = y_a_test.shape[0]\n",
    "\n",
    "    #Calculing the RMSE ()\n",
    "    mse_a = (1/n_a) * ((y_a_test - y_a_pred)**2).sum()\n",
    "    \n",
    "    print(\"MSE: \\t\", mse_a)\n",
    "    print(\"W: \\t\", w_a_pred)\n",
    "    plt.scatter(x_a, y_a, color='steelblue', label='Data', marker=\"s\")\n",
    "    plt.plot(x_a, y_a_pred_all, color='tomato', label='Predictions')\n",
    "    plt.xlabel(\"X-axis\")\n",
    "    plt.ylabel(\"Y-axis\")\n",
    "    plt.legend()\n",
    "    plt.title(\"Linear Regression\", size=16)\n",
    "    plt.show()\n",
    "    \n",
    "LinearRegression(a_ds)"
   ]
  },
  {
   "cell_type": "markdown",
   "id": "0b61d1f0",
   "metadata": {},
   "source": [
    "**b)** Apresente os parâmetros do modelo, o MSE e a curva de aprendizagem obtidos pelo algoritmo GD (gradiente descendente). Plote a reta resultante sobre os dados.\n",
    "\n",
    "\n",
    "$$\\boldsymbol{w}(t) = \\boldsymbol{w}(t-1) + \\alpha \\frac{1}{N}\\sum_{i=1}^{N} e_i(t-1) \\boldsymbol{x}_i\\\\\n",
    "\\text{em que } e_i(t-1) = y_i - \\boldsymbol{w}^{\\top}(t-1)\\boldsymbol{x}_i$$"
   ]
  },
  {
   "cell_type": "code",
   "execution_count": null,
   "id": "3f5ff742",
   "metadata": {
    "ExecuteTime": {
     "end_time": "2022-04-20T18:26:34.374412Z",
     "start_time": "2022-04-20T18:26:34.169774Z"
    },
    "code_folding": [
     0
    ],
    "scrolled": false
   },
   "outputs": [],
   "source": [
    "###Linear Regression via Gradient Descent\n",
    "#Dataset has been loaded already;\n",
    "#LinearRegression via Gradient Descent Function\n",
    "def GradDesc(dataset):\n",
    "    y_b = dataset[:,[1]]\n",
    "    x_b = dataset[:,[0]]\n",
    "\n",
    "    onecolumn_b = np.ones(x_b.shape[0])\n",
    "\n",
    "    X_b = np.c_[onecolumn_b, x_b]\n",
    "    w_b_pred = np.zeros(X_b.shape[1])\n",
    "\n",
    "    alpha_b = 0.1\n",
    "    epoch_b = 1000\n",
    "\n",
    "    y_b_pred = w_b_pred[0]  + w_b_pred[1]*X_b[:,[1]]\n",
    "    err_b = y_b - y_b_pred\n",
    "\n",
    "    err_list_b = [((err_b)**2).sum()/(X_b.shape[0]*2)]\n",
    "\n",
    "    for e in range (0, epoch_b):\n",
    "        w_b_pred[0] = w_b_pred[0] + (alpha_b*(1/X_b.shape[0])*err_b.sum())\n",
    "        w_b_pred[1] = w_b_pred[1] + (alpha_b*(1/X_b.shape[0])* (err_b*X_b[:,[1]]).sum())\n",
    "\n",
    "        y_b_pred = w_b_pred[0] + w_b_pred[1] * X_b[:,[1]]\n",
    "        err_b = y_b - y_b_pred\n",
    "\n",
    "        err_list_b.append(((err_b)**2).sum()/(X_b.shape[0]*2))\n",
    "\n",
    "    mse_b = (1/X_b.shape[0]) * ((y_b - y_b_pred)**2).sum()\n",
    "    \n",
    "    print(\"Learning Rate: \\t\", alpha_b)\n",
    "    print(\"Interations: \\t\", epoch_b)\n",
    "    print(\"MSE: \\t\\t\", mse_b)\n",
    "    print(\"W: \\t\\t\", w_b_pred)\n",
    "    plt.subplot(1, 2, 1) # row 1, col 2 index 1\n",
    "    plt.plot(range(0,len(err_list_b)),err_list_b)\n",
    "    plt.rcParams[\"figure.figsize\"] = [18,5]\n",
    "    plt.title(\"Learning Curve\")\n",
    "    plt.xlabel('X-axis')\n",
    "    plt.ylabel('Y-axis')\n",
    "\n",
    "    plt.subplot(1, 2, 2) # index 2\n",
    "    plt.scatter(x_b, y_b, color='steelblue', label='Data', marker=\"s\")\n",
    "    plt.plot(x_b, y_b_pred, color='tomato', label='Predictions')\n",
    "    plt.title(\"LR - Gradient Descent\")\n",
    "    plt.xlabel('X-axis')\n",
    "    plt.ylabel('Y-axis')\n",
    "    plt.suptitle(\"Linear Regression via Gradient Descent\", size=16)\n",
    "    plt.show()\n",
    "\n",
    "GradDesc(a_ds)"
   ]
  },
  {
   "cell_type": "markdown",
   "id": "96b8e842",
   "metadata": {},
   "source": [
    "**c)** Apresente os parâmetros do modelo, o MSE e a curva de aprendizagem obtidos pelo algoritmo SGD (gradiente descendente estocástico). Plote a reta resultante sobre os dados."
   ]
  },
  {
   "cell_type": "markdown",
   "id": "3740143c",
   "metadata": {},
   "source": [
    "\n",
    "$$\\boldsymbol{w}(t) = \\boldsymbol{w}(t-1) + \\alpha e_i(t-1) \\boldsymbol{x}_i\\\\\n",
    "\\text{em que } e_i(t-1) = y_i - \\boldsymbol{w}^{\\top}(t-1)\\boldsymbol{x}_i$$"
   ]
  },
  {
   "cell_type": "code",
   "execution_count": null,
   "id": "71d1584b",
   "metadata": {
    "ExecuteTime": {
     "end_time": "2022-04-20T18:26:49.777671Z",
     "start_time": "2022-04-20T18:26:49.185967Z"
    },
    "code_folding": [
     0
    ]
   },
   "outputs": [],
   "source": [
    "###Linear Regression via Gradient Descent Stochast\n",
    "def GradDescS(dataset):\n",
    "    y_c = dataset[:,[1]] #Comprimento - Saída do Modelo\n",
    "    x_c = dataset[:,[0]]\n",
    "    onecolumn_c = np.ones(x_c.shape[0])\n",
    "\n",
    "    X_c = np.c_[onecolumn_c, x_c]\n",
    "\n",
    "    w_c_pred = np.zeros(X_c.shape[1])\n",
    "\n",
    "    alpha_c = 0.01\n",
    "\n",
    "    epoch_c = 1000\n",
    "\n",
    "    y_c_pred = w_c_pred[0]  + w_c_pred[1]*X_c[:,[1]]\n",
    "\n",
    "    err_list_c = []\n",
    "\n",
    "    for each_c in range(0, epoch_c):\n",
    "        #\"Misturar\" dataset\n",
    "        shuffler_c = np.random.permutation(a_ds.shape[0])\n",
    "        X_c_new = X_c[shuffler_c]\n",
    "        y_c_new = y_c[shuffler_c]\n",
    "        error_sum_c = 0    \n",
    "\n",
    "        for i in range(0, X_c_new.shape[0]):\n",
    "\n",
    "            y_c_pred = w_c_pred[0] + w_c_pred[1] * X_c_new[i,[1]]\n",
    "            err_c = y_c_new[i] - y_c_pred\n",
    "            w_c_pred[0] = w_c_pred[0] + alpha_c * err_c\n",
    "            w_c_pred[1] = w_c_pred[1] + alpha_c * (err_c*X_c_new[i,[1]])\n",
    "\n",
    "            error_sum_c += (err_c)**2\n",
    "\n",
    "        err_list_c.append(error_sum_c/(2*X_c_new.shape[0]))\n",
    "\n",
    "    y_c_pred = w_c_pred[0] + w_c_pred[1] * X_c[:,[1]]   \n",
    "    \n",
    "    mse_c = (1/X_c.shape[0]) * ((y_c - y_c_pred)**2).sum()\n",
    "    \n",
    "    print(\"Learning Rate: \\t\", alpha_c)\n",
    "    print(\"Interations: \\t\", epoch_c)\n",
    "    print(\"MSE: \\t\\t\", mse_c)\n",
    "    print(\"W: \\t\\t\", w_c_pred)\n",
    "    plt.subplot(1, 2, 1) # row 1, col 2 index 1\n",
    "    plt.plot(range(0,len(err_list_c)),err_list_c)\n",
    "    plt.rcParams[\"figure.figsize\"] = [15,5]\n",
    "    plt.title(\"Learning Curve\")\n",
    "    plt.xlabel('X-axis')\n",
    "    plt.ylabel('Y-axis')\n",
    "\n",
    "    plt.subplot(1, 2, 2) # index 2\n",
    "    plt.scatter(x_c, y_c, color='steelblue', label='Data', marker=\"s\")\n",
    "    plt.plot(x_c, y_c_pred, color='tomato', label='Predictions')\n",
    "    plt.title(\"Linear Regression - SGD\")\n",
    "    plt.xlabel('X-axis')\n",
    "    plt.ylabel('Y-axis')\n",
    "    plt.suptitle(\"Linear Regression via Stochastic Gradient Descent\", size=18)\n",
    "    plt.show()\n",
    "\n",
    "GradDescS(a_ds)"
   ]
  },
  {
   "cell_type": "markdown",
   "id": "7643e689",
   "metadata": {},
   "source": [
    "**Questão 2**\n",
    "\n",
    "Considere o conjunto de dados disponível em california.csv, organizado em 9 colunas, sendo as 8 primeiras colunas os atributos e a última coluna a saída.\n",
    "Os 8 atributos são usados na predição da mediana de preços de casas em distritos da Califórnia na década de 1990. Maiores detalhes sobre os dados podem ser conferidos em https://scikit-learn.org/stable/datasets/real_world.html#california-housing-dataset.\n",
    "\n",
    "**a)** Aleatoriamente, divida o conjunto de dados em treino (80%) e teste (20%).\n",
    "\n",
    "**b)** Treine 11 modelos de regressão polinomial, com ordens de 1 a 11. Você pode usar o algoritmo OLS.\n",
    "\n",
    "**c)** Reporte o RMSE (raiz quadrada do erro quadrático médio) no treinamento e no teste para cada modelo. Faça um gráfico para o treino e um gráfico para o teste.\n",
    "\n",
    "**d)** Repita os 2 itens anteriores incluindo um termo de regularização L2 (por exemplo, com fator λ = 0.001).\n",
    "Nota: Normalize os dados antes do treinamento e _desnormalize_ antes de calcular o RMSE.\n",
    "\n",
    "\n",
    "**RESOLUÇÃO:**\n",
    "\n",
    "**a)** Aleatoriamente, divida o conjunto de dados em treino (80%) e teste (20%)."
   ]
  },
  {
   "cell_type": "code",
   "execution_count": 2,
   "id": "2f7bd631",
   "metadata": {
    "ExecuteTime": {
     "end_time": "2022-04-20T18:39:38.912737Z",
     "start_time": "2022-04-20T18:39:38.845315Z"
    },
    "code_folding": []
   },
   "outputs": [],
   "source": [
    "#Loding California DataSet\n",
    "ca_ds = np.genfromtxt('./california.csv', delimiter=',')"
   ]
  },
  {
   "cell_type": "code",
   "execution_count": 18,
   "id": "38b97e5e",
   "metadata": {
    "ExecuteTime": {
     "end_time": "2022-04-20T19:04:25.531296Z",
     "start_time": "2022-04-20T19:04:25.514035Z"
    },
    "code_folding": []
   },
   "outputs": [],
   "source": [
    "#Normalizing the X_Data with Zscore\n",
    "def NormZscore(data):\n",
    "    mean = np.mean(data, axis = 0)\n",
    "    data_int = data - mean\n",
    "    sdt = np.std(data, axis = 0)\n",
    "    data_norm = data_int / sdt\n",
    "\n",
    "    return data_norm, mean, sdt\n",
    "\n",
    "def DesnZscore(data,m,s):\n",
    "    return data * s + m"
   ]
  },
  {
   "cell_type": "code",
   "execution_count": 4,
   "id": "055302a3",
   "metadata": {
    "ExecuteTime": {
     "end_time": "2022-04-20T18:39:46.587459Z",
     "start_time": "2022-04-20T18:39:46.576729Z"
    },
    "code_folding": []
   },
   "outputs": [],
   "source": [
    "#Ramdom Dataset and split it into 80% and 20%\n",
    "def ShurffleandSplit(dataset):\n",
    "    \n",
    "    shuf = np.random.permutation(dataset)\n",
    "    n = shuf.shape[0]\n",
    "\n",
    "    perc_oitenta = int(0.8*n)\n",
    "    perc_vinte = int(0.2*n)\n",
    "    \n",
    "    return perc_oitenta, perc_vinte"
   ]
  },
  {
   "cell_type": "code",
   "execution_count": 14,
   "id": "5861d189",
   "metadata": {
    "ExecuteTime": {
     "end_time": "2022-04-20T19:03:17.812517Z",
     "start_time": "2022-04-20T19:03:17.790038Z"
    },
    "code_folding": [
     7
    ]
   },
   "outputs": [],
   "source": [
    "x = ca_ds[:,0:7]\n",
    "y = ca_ds[:,[8]]\n",
    "\n",
    "perc_oitenta, perc_vinte = ShurffleandSplit(np.c_[x, y])\n"
   ]
  },
  {
   "cell_type": "code",
   "execution_count": 15,
   "id": "02bc65cb",
   "metadata": {
    "ExecuteTime": {
     "end_time": "2022-04-20T19:03:20.098392Z",
     "start_time": "2022-04-20T19:03:20.082220Z"
    },
    "code_folding": []
   },
   "outputs": [],
   "source": [
    "def OLS(x, y, p8, p2):\n",
    "    xnorm, me, sd = NormZscore(x)\n",
    "    \n",
    "    x_train, x_test = xnorm[0:p8], xnorm[-p2:]\n",
    "    y_train, y_test = y[0:p8], y[-p2:]\n",
    "\n",
    "    onecolumn_train = np.ones(x_train.shape[0])\n",
    "    onecolumn_test = np.ones(x_test.shape[0])\n",
    "\n",
    "    #Constante - 1's\n",
    "    X_train = np.c_[onecolumn_train, x_train]\n",
    "    X_test = np.c_[onecolumn_test, x_test]\n",
    "\n",
    "    w_pred = (np.linalg.inv((X_train.T @ X_train)) @ X_train.T) @ y_train #Theta function;\n",
    "\n",
    "    x_desn_train = DesnZscore(x_train, me, sd)\n",
    "    x_desn_test = DesnZscore(x_test, me, sd)\n",
    "\n",
    "    X_train_des = np.c_[onecolumn_train, x_desn_train]\n",
    "    X_test_des = np.c_[onecolumn_test, x_desn_test]\n",
    "\n",
    "    y_pred_train = X_train_des @ w_pred\n",
    "    y_pred_test = X_test_des @ w_pred\n",
    "\n",
    "    n_train = y_train.shape[0]\n",
    "    n_test = y_test.shape[0]\n",
    "\n",
    "    rmse_train = math.sqrt((1/n_train) * ((y_train - y_pred_train)**2).sum())\n",
    "    rmse_test = math.sqrt((1/n_test) * ((y_test - y_pred_test)**2).sum())\n",
    "    \n",
    "    return rmse_train, rmse_test, w_pred"
   ]
  },
  {
   "cell_type": "code",
   "execution_count": null,
   "id": "28a209ea",
   "metadata": {
    "ExecuteTime": {
     "end_time": "2022-04-20T18:30:33.928220Z",
     "start_time": "2022-04-20T18:30:33.913295Z"
    },
    "code_folding": [
     0
    ]
   },
   "outputs": [],
   "source": [
    "# ###OLD\n",
    "\n",
    "# #Defining the OLS\n",
    "# def OLS(dataset, perc1, perc2):\n",
    "#     x = dataset[:,0:7]\n",
    "#     y = dataset[:,[8]]\n",
    "\n",
    "#     onecolumn_x = np.ones(x.shape[0])\n",
    "#     X = np.c_[onecolumn_x, x]\n",
    "    \n",
    "#     x_train, x_test = X[0:perc_oitenta], X[-perc_vinte:]\n",
    "#     y_train, y_test = y[0:perc_oitenta], y[-perc_vinte:]\n",
    "    \n",
    "#     x_norm = NormZscore(x_train)\n",
    "#     y_norm = NormZscore(y_train)\n",
    "    \n",
    "#     onecolumn_train = np.ones(x_norm.shape[0])\n",
    "#     onecolumn_test = np.ones(x_test.shape[0])\n",
    "\n",
    "#     #Constante - 1's\n",
    "#     X_norm_train = np.c_[onecolumn_train, x_norm]\n",
    "#     X_train = np.c_[onecolumn_train, x_train]\n",
    "#     X_test = np.c_[onecolumn_test, x_test]\n",
    "    \n",
    "#     #Obtaining the w from the train_data\n",
    "#     w_pred = (np.linalg.inv((X_norm_train.T @ X_norm_train)) @ X_norm_train.T) @ y_norm #Theta function;\n",
    "        \n",
    "#     y_pred_test = X_test @ w_pred\n",
    "#     y_pred_train = X_train @ w_pred\n",
    "#     y_pred_all = X @ w_pred\n",
    "    \n",
    "#     n_train = y_train.shape[0]\n",
    "#     n_test = y_test.shape[0]\n",
    "\n",
    "#     rmse_train = math.sqrt((1/n_train) * ((y_train - y_pred_train)**2).sum())\n",
    "#     rmse_test = math.sqrt((1/n_test) * ((y_test - y_pred_test)**2).sum())\n",
    "    \n",
    "#     print(y_train)\n",
    "#     print(y_pred_train)\n",
    "    \n",
    "#     return y_pred_all, w_pred, rmse_train, rmse_test"
   ]
  },
  {
   "cell_type": "markdown",
   "id": "7d3db024",
   "metadata": {},
   "source": [
    "**b)** Treine 11 modelos de regressão polinomial, com ordens de 1 a 11. Você pode usar o algoritmo OLS.\n",
    "\n",
    "**c)** Reporte o RMSE (raiz quadrada do erro quadrático médio) no treinamento e no teste para cada modelo. Faça um gráfico para o treino e um gráfico para o teste."
   ]
  },
  {
   "cell_type": "code",
   "execution_count": 46,
   "id": "998f2f66",
   "metadata": {
    "ExecuteTime": {
     "end_time": "2022-04-20T19:14:55.013701Z",
     "start_time": "2022-04-20T19:14:54.878680Z"
    },
    "code_folding": [],
    "scrolled": false
   },
   "outputs": [
    {
     "data": {
      "image/png": "[encoded data removed]",
      "text/plain": [
       "<Figure size 720x360 with 1 Axes>"
      ]
     },
     "metadata": {
      "needs_background": "light"
     },
     "output_type": "display_data"
    }
   ],
   "source": [
    "#defining Polinomial Regression\n",
    "\n",
    "ols_pol = [OLS(x, y, perc_oitenta, perc_vinte)]\n",
    "\n",
    "for i in range(2,12):\n",
    "    column_pol = (x)**i\n",
    "    \n",
    "    # # #Creating a New Matrix Adding the Polinomial Column at Begin.\n",
    "    ca_ds_n = np.c_[x, column_pol]\n",
    "    \n",
    "    # # #Appending The Results - \n",
    "    ols_pol.append(OLS(ca_ds_n, y, perc_oitenta, perc_vinte))\n",
    "\n",
    "ols_pol = np.array(ols_pol, dtype=object)\n",
    "\n",
    "rmse_train_all = np.array(ols_pol[:,[0]], dtype=float)\n",
    "rmse_test_all = np.array(ols_pol[:,[1]], dtype=float)\n",
    "\n",
    "#print(rmse_train_all, rmse_test_all)\n",
    "plt.plot(range(1,12), np.log10(rmse_train_all), color='tomato', label='Train')\n",
    "plt.plot(range(1,12), np.log10(rmse_test_all), color='blue', label='Test')\n",
    "plt.xlabel(\"Polinom\")\n",
    "plt.ylabel(\"RMSE\")\n",
    "plt.rcParams[\"figure.figsize\"] = [10,5]\n",
    "plt.legend()\n",
    "plt.show()"
   ]
  },
  {
   "cell_type": "markdown",
   "id": "baeb9cf5",
   "metadata": {},
   "source": [
    "**d)** Repita os 2 itens anteriores incluindo um termo de regularização L2 (por exemplo, com fator λ = 0.001)."
   ]
  },
  {
   "cell_type": "code",
   "execution_count": 56,
   "id": "674e188d",
   "metadata": {
    "ExecuteTime": {
     "end_time": "2022-04-20T19:20:38.899638Z",
     "start_time": "2022-04-20T19:20:38.883512Z"
    },
    "code_folding": []
   },
   "outputs": [],
   "source": [
    "def OLSREG(x, y, p8, p2):\n",
    "    l = 0.001\n",
    "    \n",
    "    xnorm, me, sd = NormZscore(x)\n",
    "    \n",
    "    x_train, x_test = xnorm[0:p8], xnorm[-p2:]\n",
    "    y_train, y_test = y[0:p8], y[-p2:]\n",
    "\n",
    "    onecolumn_train = np.ones(x_train.shape[0])\n",
    "    onecolumn_test = np.ones(x_test.shape[0])\n",
    "\n",
    "    #Constante - 1's\n",
    "    X_train = np.c_[onecolumn_train, x_train]\n",
    "    X_test = np.c_[onecolumn_test, x_test]\n",
    "    \n",
    "    m_identity = np.identity(X_train.shape[1])\n",
    "    m_identity[0,0] = 0\n",
    "    \n",
    "    w_pred = (np.linalg.inv((X_train.T @ X_train + l*m_identity)) @ X_train.T) @ y_train #Theta function;\n",
    "\n",
    "    x_desn_train = DesnZscore(x_train, me, sd)\n",
    "    x_desn_test = DesnZscore(x_test, me, sd)\n",
    "\n",
    "    X_train_des = np.c_[onecolumn_train, x_desn_train]\n",
    "    X_test_des = np.c_[onecolumn_test, x_desn_test]\n",
    "\n",
    "    y_pred_train = X_train_des @ w_pred\n",
    "    y_pred_test = X_test_des @ w_pred\n",
    "\n",
    "    n_train = y_train.shape[0]\n",
    "    n_test = y_test.shape[0]\n",
    "\n",
    "    rmse_train = math.sqrt((1/n_train) * ((y_train - y_pred_train)**2).sum())\n",
    "    rmse_test = math.sqrt((1/n_test) * ((y_test - y_pred_test)**2).sum())\n",
    "    \n",
    "    return rmse_train, rmse_test, w_pred"
   ]
  },
  {
   "cell_type": "code",
   "execution_count": 57,
   "id": "c139b8f5",
   "metadata": {
    "ExecuteTime": {
     "end_time": "2022-04-20T19:20:41.540195Z",
     "start_time": "2022-04-20T19:20:41.397103Z"
    },
    "code_folding": []
   },
   "outputs": [
    {
     "name": "stdout",
     "output_type": "stream",
     "text": [
      "[[4.37551752e+01]\n",
      " [9.54885905e+04]\n",
      " [4.09092770e+08]\n",
      " [3.09123782e+12]\n",
      " [3.22586245e+16]\n",
      " [3.95507516e+20]\n",
      " [5.12413831e+24]\n",
      " [6.71380200e+28]\n",
      " [8.76824892e+32]\n",
      " [1.13714585e+37]\n",
      " [1.46413036e+41]] [[4.37551548e+01]\n",
      " [9.54544947e+04]\n",
      " [4.08927945e+08]\n",
      " [3.08984234e+12]\n",
      " [3.22439089e+16]\n",
      " [3.95338047e+20]\n",
      " [5.12211460e+24]\n",
      " [6.71134577e+28]\n",
      " [8.76524332e+32]\n",
      " [1.13677636e+37]\n",
      " [1.46367473e+41]]\n"
     ]
    },
    {
     "data": {
      "image/png": "[encoded data removed]",
      "text/plain": [
       "<Figure size 720x360 with 1 Axes>"
      ]
     },
     "metadata": {
      "needs_background": "light"
     },
     "output_type": "display_data"
    }
   ],
   "source": [
    "#defining Polinomial Regression\n",
    "\n",
    "ols_pol_reg = [OLSREG(x, y, perc_oitenta, perc_vinte)]\n",
    "\n",
    "for i in range(2,12):\n",
    "    column_pol_reg = (x)**i\n",
    "    \n",
    "    # # #Creating a New Matrix Adding the Polinomial Column at Begin.\n",
    "    ca_ds_n_reg = np.c_[x, column_pol_reg]\n",
    "    \n",
    "    # # #Appending The Results - \n",
    "    ols_pol_reg.append(OLSREG(ca_ds_n_reg, y, perc_oitenta, perc_vinte))\n",
    "\n",
    "ols_pol_reg = np.array(ols_pol_reg, dtype=object)\n",
    "\n",
    "rmse_train_all_reg = np.array(ols_pol_reg[:,[0]], dtype=float)\n",
    "rmse_test_all_reg = np.array(ols_pol_reg[:,[1]], dtype=float)\n",
    "\n",
    "print(rmse_test_all, rmse_test_all_reg)\n",
    "plt.plot(range(1,12), np.log10(rmse_train_all_reg), color='tomato', label='Train')\n",
    "plt.plot(range(1,12), np.log10(rmse_test_all_reg), color='blue', label='Test')\n",
    "plt.xlabel(\"Polinom\")\n",
    "plt.ylabel(\"RMSE\")\n",
    "plt.rcParams[\"figure.figsize\"] = [10,5]\n",
    "plt.legend()\n",
    "plt.show()"
   ]
  },
  {
   "cell_type": "code",
   "execution_count": null,
   "id": "6d575ea8",
   "metadata": {
    "ExecuteTime": {
     "end_time": "2022-04-20T18:03:49.804599Z",
     "start_time": "2022-04-20T18:03:49.789089Z"
    },
    "code_folding": [
     0
    ]
   },
   "outputs": [],
   "source": [
    "###OLD\n",
    "# #Defining the OLS\n",
    "# def OLSREG(dataset):\n",
    "#     l = 0.001\n",
    "    \n",
    "#     x = dataset[:,0:7]\n",
    "#     y = dataset[:,[8]]\n",
    "    \n",
    "#     x_train, x_test = x[0:perc_oitenta], x[-perc_vinte:]\n",
    "#     y_train, y_test = y[0:perc_oitenta], y[-perc_vinte:]\n",
    "    \n",
    "#     onecolumn_x = np.ones(x.shape[0])\n",
    "#     X = np.c_[onecolumn_x, x]\n",
    "    \n",
    "#     x_norm = NormZscore(x_train)\n",
    "#     y_norm = NormZscore(y_train)\n",
    "    \n",
    "#     onecolumn_train = np.ones(x_norm.shape[0])\n",
    "#     onecolumn_test = np.ones(x_test.shape[0])\n",
    "\n",
    "#     #Constante - 1's\n",
    "#     X_norm_train = np.c_[onecolumn_train, x_norm]\n",
    "#     X_train = np.c_[onecolumn_train, x_train]\n",
    "#     X_test = np.c_[onecolumn_test, x_test]\n",
    "    \n",
    "#     #Identity Matriz\n",
    "#     m_identity = np.identity(X_norm_train.shape[1])\n",
    "#     m_identity[0,0] = 0\n",
    "    \n",
    "#     #Obtaining the w from the train_data\n",
    "#     w_pred = (np.linalg.inv((X_norm_train.T @ X_norm_train + l*m_identity)) @ X_norm_train.T) @ y_norm #Theta function;\n",
    "        \n",
    "#     y_pred_test = X_test @ w_pred\n",
    "#     y_pred_train = X_train @ w_pred\n",
    "#     y_pred_all = X @ w_pred\n",
    "    \n",
    "#     n_train = y_train.shape[0]\n",
    "#     n_test = y_test.shape[0]\n",
    "\n",
    "#     rmse_train = math.sqrt((1/n_train) * ((y_train - y_pred_train)**2).sum())\n",
    "#     rmse_test = math.sqrt((1/n_test) * ((y_test - y_pred_test)**2).sum())\n",
    "    \n",
    "#     return y_pred_all, w_pred, rmse_train, rmse_test"
   ]
  },
  {
   "cell_type": "code",
   "execution_count": null,
   "id": "90db2804",
   "metadata": {
    "ExecuteTime": {
     "end_time": "2022-04-20T18:04:10.113195Z",
     "start_time": "2022-04-20T18:04:09.966578Z"
    },
    "code_folding": [
     0,
     1
    ]
   },
   "outputs": [],
   "source": [
    "###OLD\n",
    "# #defining Polinomial Regression\n",
    "# ols_pol_reg = [OLSREG(ca_ds)]\n",
    "\n",
    "# for i in range(2,12):\n",
    "#     column_pol = (ca_ds[:,0:8])**i\n",
    "#     # # #Creating a New Matrix Adding the Polinomial Column at Begin.\n",
    "#     ca_ds_n = np.c_[ca_ds, column_pol]\n",
    "#     # # #Appending The Results - \n",
    "#     ols_pol_reg.append(OLSREG(ca_ds_n))\n",
    "    \n",
    "# ols_pol_reg = np.array(ols_pol_reg, dtype=object)\n",
    "\n",
    "# rmse_train_all_reg = ols_pol_reg[:,[2]]\n",
    "# rmse_test_all_reg = ols_pol_reg[:,[3]]\n",
    "\n",
    "# plt.plot(range(0,11), rmse_train_all_reg, color='tomato', label='Train')\n",
    "# plt.plot(range(0,11), rmse_test_all_reg, color='blue', label='Test')\n",
    "# plt.xlabel(\"Polinom\")\n",
    "# plt.ylabel(\"RMSE\")\n",
    "# plt.rcParams[\"figure.figsize\"] = [10,5]\n",
    "# plt.legend()\n",
    "# plt.show()"
   ]
  },
  {
   "cell_type": "code",
   "execution_count": null,
   "id": "5ee244a0",
   "metadata": {},
   "outputs": [],
   "source": []
  },
  {
   "cell_type": "code",
   "execution_count": null,
   "id": "973061a3",
   "metadata": {},
   "outputs": [],
   "source": []
  },
  {
   "cell_type": "code",
   "execution_count": null,
   "id": "0ad02ca9",
   "metadata": {
    "ExecuteTime": {
     "end_time": "2022-04-20T16:55:13.718551Z",
     "start_time": "2022-04-20T16:55:13.699346Z"
    },
    "scrolled": false
   },
   "outputs": [],
   "source": [
    "# #ols_pol = np.array(ols_pol, dtype=object)\n",
    "\n",
    "# #def PlotGradDescRegression(x_train, y_train, x_test, y_test, y_pred_train, y_pred_test, w_pred, rmse_train, rmse_test):\n",
    "# print(\"MSE: \\t\\t\", rmse_train)\n",
    "# print(\"W: \\t\\t\", w_pred)\n",
    "# plt.subplot(1, 2, 1) # row 1, col 2 index 1\n",
    "# plt.scatter(x_train[:,[2]], y_train, color='steelblue', label='Data', marker=\"s\")\n",
    "# plt.plot(x_train[:,[2]], y_pred_train, color='tomato', label='Predictions')\n",
    "# plt.rcParams[\"figure.figsize\"] = [15,5]\n",
    "# plt.title(\"Train Dataset\")\n",
    "# plt.xlabel('X-axis')\n",
    "# plt.ylabel('Y-axis')\n",
    "\n",
    "# # plt.subplot(1, 2, 2) # index 2\n",
    "# # plt.scatter(x_test, y_test, color='steelblue', label='Data', marker=\"s\")\n",
    "# # plt.plot(x_test, y_pred_test, color='tomato', label='Predictions')\n",
    "# # plt.title(\"Test Dataset\")\n",
    "# # plt.xlabel('X-axis')\n",
    "# # plt.ylabel('Y-axis')\n",
    "# # plt.suptitle(\"Linear Regression via Stochastic Gradient Descent\", size=18)\n",
    "# # plt.show()"
   ]
  },
  {
   "cell_type": "code",
   "execution_count": null,
   "id": "2312b56f",
   "metadata": {
    "ExecuteTime": {
     "end_time": "2022-04-20T13:08:56.752718Z",
     "start_time": "2022-04-20T13:08:56.625361Z"
    }
   },
   "outputs": [],
   "source": [
    "# plt.scatter(ols_pol[1,1], ols_pol[1,3], color='Blue')\n",
    "# #plt.plot(x1, y_pred1, color='tomato', label='Predictions')\n",
    "# plt.xlabel(\"X-axis\")\n",
    "# plt.ylabel(\"Y-axis\")\n",
    "# plt.rcParams[\"figure.figsize\"] = [20,14]\n",
    "# plt.legend()\n",
    "# plt.show()"
   ]
  },
  {
   "cell_type": "code",
   "execution_count": null,
   "id": "0a6ebcde",
   "metadata": {},
   "outputs": [],
   "source": [
    "#Supporting Functions (Zscore, DataSet Ramdomly/Split-Train/Test and OLS);\n",
    "#Normalizing the X_Data with Zscore\n",
    "def NormZscore(data):\n",
    "    mean = np.mean(data, axis = 0)\n",
    "    data_int = data - mean\n",
    "    sdt = np.std(data, axis = 0)\n",
    "    data_norm = data_int / sdt\n",
    "    \n",
    "    return data_norm\n",
    "\n",
    "#Ramdom Dataset and split it into 80% and 20%\n",
    "def ShurffleandSplit(dataset):\n",
    "   \n",
    "    shuf = np.random.permutation(dataset)\n",
    "    n = shuf.shape[0]\n",
    "\n",
    "    perc_oitenta = int(0.8*n)\n",
    "    perc_vinte = int(0.2*n)\n",
    "    \n",
    "    x = shuf[:,0:7]\n",
    "    y = shuf[:,[8]]\n",
    "\n",
    "    x_train, x_test = x[0:perc_oitenta], x[-perc_vinte:]\n",
    "\n",
    "    y_train, y_test = y[0:perc_oitenta], y[-perc_vinte:]\n",
    "    \n",
    "    return x_train, x_test, y_train, y_test\n",
    "\n",
    "#Defining the OLS\n",
    "def OLS(dataset):\n",
    "    \n",
    "    x = dataset[:,0:7]\n",
    "    y = dataset[:,[8]]\n",
    "    onecolumn_x = np.ones(x.shape[0])\n",
    "    X = np.c_[onecolumn_x, x]\n",
    "\n",
    "    x_train, x_test, y_train, y_test = ShurffleandSplit(dataset)\n",
    "    \n",
    "    x_norm = NormZscore(x_train)\n",
    "    y_norm = NormZscore(y_train)\n",
    "    \n",
    "    \n",
    "    onecolumn_train = np.ones(x_norm.shape[0])\n",
    "    onecolumn_test = np.ones(x_test.shape[0])\n",
    "\n",
    "    #Constante - 1's\n",
    "    X_norm_train = np.c_[onecolumn_train, x_norm]\n",
    "    X_train = np.c_[onecolumn_train, x_train]\n",
    "    X_test = np.c_[onecolumn_test, x_test]\n",
    "    \n",
    "    #Obtaining the w from the train_data\n",
    "    w_pred = (np.linalg.inv((X_norm_train.T @ X_norm_train)) @ X_norm_train.T) @ y_norm #Theta function;\n",
    "    \n",
    "    y_pred_test = X_test @ w_pred\n",
    "    y_pred_train = X_train @ w_pred\n",
    "    y_pred_all = X @ w_pred\n",
    "    \n",
    "    n_train = y_train.shape[0]\n",
    "    n_test = y_test.shape[0]\n",
    "\n",
    "    rmse_train = math.sqrt((1/n_train) * ((y_train - y_pred_train)**2).sum())\n",
    "    rmse_test = math.sqrt((1/n_test) * ((y_test - y_pred_test)**2).sum())\n",
    "    \n",
    "    return x_train, y_train, x_test, y_test, y_pred_train, y_pred_test, y_pred_all, w_pred, rmse_train, rmse_test"
   ]
  }
 ],
 "metadata": {
  "gist": {
   "data": {
    "description": "Machine Learning - Lista01.ipynb",
    "public": true
   },
   "id": ""
  },
  "kernelspec": {
   "display_name": "Python 3 (ipykernel)",
   "language": "python",
   "name": "python3"
  },
  "language_info": {
   "codemirror_mode": {
    "name": "ipython",
    "version": 3
   },
   "file_extension": ".py",
   "mimetype": "text/x-python",
   "name": "python",
   "nbconvert_exporter": "python",
   "pygments_lexer": "ipython3",
   "version": "3.9.7"
  },
  "latex_envs": {
   "LaTeX_envs_menu_present": true,
   "autoclose": false,
   "autocomplete": true,
   "bibliofile": "biblio.bib",
   "cite_by": "apalike",
   "current_citInitial": 1,
   "eqLabelWithNumbers": true,
   "eqNumInitial": 1,
   "hotkeys": {
    "equation": "Ctrl-E",
    "itemize": "Ctrl-I"
   },
   "labels_anchors": false,
   "latex_user_defs": false,
   "report_style_numbering": false,
   "user_envs_cfg": false
  }
 },
 "nbformat": 4,
 "nbformat_minor": 5
}
