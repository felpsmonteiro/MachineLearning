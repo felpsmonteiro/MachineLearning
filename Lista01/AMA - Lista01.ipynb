{
 "cells": [
  {
   "cell_type": "markdown",
   "id": "4e391e4b",
   "metadata": {},
   "source": [
    "AMA - Lista 01\n",
    "\n",
    "**Questão 1**\n",
    "\n",
    "Considere o conjunto de dados disponível em _articial1d.csv_ organizado em duas colunas, x e y. Seja um modelo de regressão linear para yˆ = f(x).\n",
    "\n",
    "**a)** Apresente os parâmetros do modelo e o MSE (erro quadrático médio) obtidos pelo algoritmo OLS (mínimos quadrados ordinários). Plote a reta resultante sobre os dados.\n",
    "\n",
    "**b)** Apresente os parâmetros do modelo, o MSE e a curva de aprendizagem obtidos pelo algoritmo GD (gradiente descendente). Plote a reta resultante sobre os dados.\n",
    "\n",
    "**c)** Apresente os parâmetros do modelo, o MSE e a curva de aprendizagem obtidos pelo algoritmo SGD (gradiente descendente estocástico). Plote a reta resultante sobre os dados.\n",
    "\n",
    "\n",
    "\n",
    "\n",
    "\n",
    "_**RESOLUÇÃO**_\n",
    "\n",
    "\n",
    "**a)** Apresente os parâmetros do modelo e o MSE (erro quadrático médio) obtidos pelo algoritmo OLS (mínimos quadrados ordinários). Plote a reta resultante sobre os dados."
   ]
  },
  {
   "cell_type": "markdown",
   "id": "8b0c00ee",
   "metadata": {},
   "source": [
    "$$\\begin{aligned}\n",
    "\\hat{\\boldsymbol{y}} = \\boldsymbol{X}\\boldsymbol{w}\\\\\n",
    "\\text{}\\\\\n",
    "\\hat{\\boldsymbol{w}} = \\arg\\min_{\\boldsymbol{w}} ||\\boldsymbol{y} - \\boldsymbol{X}\\boldsymbol{w}||^2\n",
    "\\end{aligned}$$\n",
    "\n",
    "$$\\hat{\\boldsymbol{w}} = (\\boldsymbol{X}^{\\top}\\boldsymbol{X})^{-1} \\boldsymbol{X}^{\\top}\\boldsymbol{y}$$\n",
    "\n",
    "\n",
    "$$\\boldsymbol{X} = [\\mathbf{1}^{\\top} \\;,\\; \\mathtt{artificial1d[:,[0,1]}]\\\\\n",
    "\\boldsymbol{y} = \\mathtt{artificial1d[:,[2]]}$$\n",
    "\n",
    "\n",
    "$$\\mathrm{MSE} = {\\frac{1}{n}\\sum_i^n (\\boldsymbol{y} - \\hat{\\boldsymbol{y}})^2}$$"
   ]
  },
  {
   "cell_type": "code",
   "execution_count": 1,
   "id": "f4a44171",
   "metadata": {
    "ExecuteTime": {
     "end_time": "2022-04-27T14:20:59.978309Z",
     "start_time": "2022-04-27T14:20:59.038344Z"
    },
    "code_folding": [
     0
    ]
   },
   "outputs": [],
   "source": [
    "#Importing Libs in order to solve the problems;\n",
    "import numpy as np\n",
    "import math\n",
    "\n",
    "#Importing Other Plot Libs;\n",
    "import matplotlib.pyplot as plt"
   ]
  },
  {
   "cell_type": "code",
   "execution_count": 2,
   "id": "2429abc8",
   "metadata": {
    "ExecuteTime": {
     "end_time": "2022-04-27T14:21:00.536282Z",
     "start_time": "2022-04-27T14:21:00.290374Z"
    },
    "code_folding": [
     0
    ]
   },
   "outputs": [
    {
     "name": "stdout",
     "output_type": "stream",
     "text": [
      "--------------------------------------------------\n",
      "MSE: \t 0.2134009013293699\n",
      "--------------------------------------------------\n",
      "W: \n",
      " [[0.06761792]\n",
      " [1.57486517]]\n",
      "--------------------------------------------------\n"
     ]
    },
    {
     "data": {
      "image/png": "[encoded data removed]",
      "text/plain": [
       "<Figure size 432x288 with 1 Axes>"
      ]
     },
     "metadata": {
      "needs_background": "light"
     },
     "output_type": "display_data"
    }
   ],
   "source": [
    "###Linear Regression\n",
    "\n",
    "#Loading the dataset;\n",
    "a_ds = np.genfromtxt('./artificial1d.csv', delimiter=',')\n",
    "\n",
    "#LinearRegression Function\n",
    "def LinearRegression2(dataset):\n",
    "    #Spliting the X and Y data;\n",
    "    y_a = a_ds[:,[1]]\n",
    "    x_a = a_ds[:,[0]]\n",
    "\n",
    "    #Creating an ones range-\"column\"\n",
    "    onecolumn_a = np.ones(x_a.shape[0])\n",
    "\n",
    "    #Getting a Linear Model\n",
    "    X_a = np.c_[onecolumn_a, x_a]\n",
    "\n",
    "    #The Normal Equation as seen above\n",
    "    w_a_pred = (np.linalg.inv((X_a.T @ X_a)) @ X_a.T) @ y_a #Theta function;\n",
    "\n",
    "    #Creating the y_predict;\n",
    "    y_a_pred = X_a @ w_a_pred\n",
    "    \n",
    "    #Getting y_a Shape\n",
    "    n_a = y_a.shape[0]\n",
    "\n",
    "    #Calculing the RMSE()\n",
    "    mse_a = (1/n_a) * ((y_a - y_a_pred)**2).sum()\n",
    "    \n",
    "    #Plotting the results over the data;\n",
    "    print(\"-\" * 50)\n",
    "    print(\"MSE: \\t\", mse_a)\n",
    "    print(\"-\" * 50)\n",
    "    print(\"W: \\n\", w_a_pred)\n",
    "    print(\"-\" * 50)\n",
    "    plt.scatter(x_a, y_a, color='steelblue', label='Data', marker=\"s\")\n",
    "    plt.plot(x_a, y_a_pred, color='tomato', label='Predictions')\n",
    "    plt.xlabel(\"X-axis\")\n",
    "    plt.ylabel(\"Y-axis\")\n",
    "    plt.legend()\n",
    "    plt.title(\"Linear Regression\", size=16)\n",
    "    plt.show()\n",
    "    \n",
    "LinearRegression2(a_ds)"
   ]
  },
  {
   "cell_type": "markdown",
   "id": "0b61d1f0",
   "metadata": {},
   "source": [
    "**b)** Apresente os parâmetros do modelo, o MSE e a curva de aprendizagem obtidos pelo algoritmo GD (gradiente descendente). Plote a reta resultante sobre os dados.\n",
    "\n",
    "\n",
    "$$\\boldsymbol{w}(t) = \\boldsymbol{w}(t-1) + \\alpha \\frac{1}{N}\\sum_{i=1}^{N} e_i(t-1) \\boldsymbol{x}_i\\\\\n",
    "\\text{em que } e_i(t-1) = y_i - \\boldsymbol{w}^{\\top}(t-1)\\boldsymbol{x}_i$$"
   ]
  },
  {
   "cell_type": "code",
   "execution_count": 4,
   "id": "3f5ff742",
   "metadata": {
    "ExecuteTime": {
     "end_time": "2022-04-27T14:21:05.455794Z",
     "start_time": "2022-04-27T14:21:04.970509Z"
    },
    "code_folding": [
     2,
     26
    ],
    "scrolled": false
   },
   "outputs": [
    {
     "name": "stdout",
     "output_type": "stream",
     "text": [
      "----------------------------------------\n",
      "Learning Rate: \t 0.1\n",
      "Interations: \t 200\n",
      "----------------------------------------\n",
      "MSE: \t\t 0.2134013412886482\n",
      "W: \t\t [0.06761792 1.57375399]\n",
      "----------------------------------------\n"
     ]
    },
    {
     "data": {
      "image/png": "[encoded data removed]",
      "text/plain": [
       "<Figure size 1296x360 with 2 Axes>"
      ]
     },
     "metadata": {
      "needs_background": "light"
     },
     "output_type": "display_data"
    }
   ],
   "source": [
    "####LinearRegression via Gradient Descent Function\n",
    "#Dataset has been loaded already;\n",
    "def GradDesc(dataset):\n",
    "    #Splitting X and Y axis\n",
    "    y_b = dataset[:,[1]]\n",
    "    x_b = dataset[:,[0]]\n",
    "    \n",
    "    #Creating an ones range-\"column\"\n",
    "    onecolumn_b = np.ones(x_b.shape[0])\n",
    "    \n",
    "    #Putting the columns together\n",
    "    X_b = np.c_[onecolumn_b, x_b]\n",
    "    w_b_pred = np.zeros(X_b.shape[1])\n",
    "    \n",
    "    #Defining its parameters (Learning Rate and Epochs)\n",
    "    alpha_b = 0.1\n",
    "    epoch_b = 200\n",
    "    \n",
    "    #Setting the initial y_predict and the error\n",
    "    y_b_pred = w_b_pred[0]  + w_b_pred[1]*X_b[:,[1]]\n",
    "    err_b = y_b - y_b_pred\n",
    "    \n",
    "    #W formula\n",
    "    err_list_b = [((err_b)**2).sum()/(X_b.shape[0]*2)]\n",
    "    \n",
    "    #For each epoch try to get the best w as well as the error list.\n",
    "    for e in range (0, epoch_b):\n",
    "        w_b_pred[0] = w_b_pred[0] + (alpha_b*(1/X_b.shape[0])*err_b.sum())\n",
    "        w_b_pred[1] = w_b_pred[1] + (alpha_b*(1/X_b.shape[0])* (err_b*X_b[:,[1]]).sum())\n",
    "\n",
    "        y_b_pred = w_b_pred[0] + w_b_pred[1] * X_b[:,[1]]\n",
    "        err_b = y_b - y_b_pred\n",
    "\n",
    "        err_list_b.append(((err_b)**2).sum()/(X_b.shape[0]*2))\n",
    "    \n",
    "    #Getting the MSE\n",
    "    mse_b = (1/X_b.shape[0]) * ((y_b - y_b_pred)**2).sum()\n",
    "    \n",
    "    #Printing and Plotting the error, w and the fig.\n",
    "    print(\"-\" * 40)\n",
    "    print(\"Learning Rate: \\t\", alpha_b)\n",
    "    print(\"Interations: \\t\", epoch_b)\n",
    "    print(\"-\" * 40)\n",
    "    print(\"MSE: \\t\\t\", mse_b)\n",
    "    print(\"W: \\t\\t\", w_b_pred)\n",
    "    print(\"-\" * 40)\n",
    "    plt.subplot(1, 2, 1) # row 1, col 2 index 1\n",
    "    plt.plot(range(0,len(err_list_b)),err_list_b)\n",
    "    plt.rcParams[\"figure.figsize\"] = [18,5]\n",
    "    plt.title(\"Learning Curve\")\n",
    "    plt.xlabel('X-axis')\n",
    "    plt.ylabel('Y-axis')\n",
    "\n",
    "    plt.subplot(1, 2, 2) # index 2\n",
    "    plt.scatter(x_b, y_b, color='steelblue', label='Data', marker=\"s\")\n",
    "    plt.plot(x_b, y_b_pred, color='tomato', label='Predictions')\n",
    "    plt.title(\"LR - Gradient Descent\")\n",
    "    plt.xlabel('X-axis')\n",
    "    plt.ylabel('Y-axis')\n",
    "    plt.suptitle(\"Linear Regression via GD\", size=16)\n",
    "    plt.show()\n",
    "\n",
    "GradDesc(a_ds)"
   ]
  },
  {
   "cell_type": "markdown",
   "id": "96b8e842",
   "metadata": {},
   "source": [
    "**c)** Apresente os parâmetros do modelo, o MSE e a curva de aprendizagem obtidos pelo algoritmo SGD (gradiente descendente estocástico). Plote a reta resultante sobre os dados."
   ]
  },
  {
   "cell_type": "markdown",
   "id": "3740143c",
   "metadata": {},
   "source": [
    "\n",
    "$$\\boldsymbol{w}(t) = \\boldsymbol{w}(t-1) + \\alpha e_i(t-1) \\boldsymbol{x}_i\\\\\n",
    "\\text{em que } e_i(t-1) = y_i - \\boldsymbol{w}^{\\top}(t-1)\\boldsymbol{x}_i$$"
   ]
  },
  {
   "cell_type": "code",
   "execution_count": 17,
   "id": "71d1584b",
   "metadata": {
    "ExecuteTime": {
     "end_time": "2022-04-27T14:21:56.675280Z",
     "start_time": "2022-04-27T14:21:56.103172Z"
    },
    "code_folding": [
     0
    ]
   },
   "outputs": [
    {
     "name": "stdout",
     "output_type": "stream",
     "text": [
      "----------------------------------------\n",
      "Learning Rate: \t 0.01\n",
      "Interations: \t 100\n",
      "----------------------------------------\n",
      "MSE: \t\t 0.21340326934167161\n",
      "W: \t\t [0.06638237 1.57332848]\n",
      "----------------------------------------\n"
     ]
    },
    {
     "data": {
      "image/png": "[encoded data removed]",
      "text/plain": [
       "<Figure size 1080x360 with 2 Axes>"
      ]
     },
     "metadata": {
      "needs_background": "light"
     },
     "output_type": "display_data"
    }
   ],
   "source": [
    "###Linear Regression via Stochast Gradient Descent \n",
    "def GradDescS(dataset):\n",
    "    y_c = dataset[:,[1]] #Comprimento - Saída do Modelo\n",
    "    x_c = dataset[:,[0]]\n",
    "    onecolumn_c = np.ones(x_c.shape[0])\n",
    "\n",
    "    X_c = np.c_[onecolumn_c, x_c]\n",
    "\n",
    "    w_c_pred = np.zeros(X_c.shape[1])\n",
    "\n",
    "    alpha_c = 0.01\n",
    "\n",
    "    epoch_c = 100\n",
    "\n",
    "    y_c_pred = w_c_pred[0]  + w_c_pred[1]*X_c[:,[1]]\n",
    "\n",
    "    err_list_c = []\n",
    "\n",
    "    for each_c in range(0, epoch_c):\n",
    "        \n",
    "        shuffler_c = np.random.permutation(a_ds.shape[0])\n",
    "        X_c_new = X_c[shuffler_c]\n",
    "        y_c_new = y_c[shuffler_c]\n",
    "        error_sum_c = 0    \n",
    "\n",
    "        for i in range(0, X_c_new.shape[0]):\n",
    "\n",
    "            y_c_pred = w_c_pred[0] + w_c_pred[1] * X_c_new[i,[1]]\n",
    "            err_c = y_c_new[i] - y_c_pred\n",
    "            w_c_pred[0] = w_c_pred[0] + alpha_c * err_c\n",
    "            w_c_pred[1] = w_c_pred[1] + alpha_c * (err_c*X_c_new[i,[1]])\n",
    "\n",
    "            error_sum_c += (err_c)**2\n",
    "\n",
    "        err_list_c.append(error_sum_c/(2*X_c_new.shape[0]))\n",
    "\n",
    "    y_c_pred = w_c_pred[0] + w_c_pred[1] * X_c[:,[1]]   \n",
    "    \n",
    "    mse_c = (1/X_c.shape[0]) * ((y_c - y_c_pred)**2).sum()\n",
    "    \n",
    "    print(\"-\" * 40)\n",
    "    print(\"Learning Rate: \\t\", alpha_c)\n",
    "    print(\"Interations: \\t\", epoch_c)\n",
    "    print(\"-\" * 40)\n",
    "    print(\"MSE: \\t\\t\", mse_c)\n",
    "    print(\"W: \\t\\t\", w_c_pred)\n",
    "    print(\"-\" * 40)\n",
    "    plt.subplot(1, 2, 1) # row 1, col 2 index 1\n",
    "    plt.plot(range(0,len(err_list_c)),err_list_c)\n",
    "    plt.rcParams[\"figure.figsize\"] = [15,5]\n",
    "    plt.title(\"Learning Curve\")\n",
    "    plt.xlabel('X-axis')\n",
    "    plt.ylabel('Y-axis')\n",
    "\n",
    "    plt.subplot(1, 2, 2) # index 2\n",
    "    plt.scatter(x_c, y_c, color='steelblue', label='Data', marker=\"s\")\n",
    "    plt.plot(x_c, y_c_pred, color='tomato', label='Predictions')\n",
    "    plt.title(\"LR - SGD\")\n",
    "    plt.xlabel('X-axis')\n",
    "    plt.ylabel('Y-axis')\n",
    "    plt.suptitle(\"Linear Regression via Stochastic Gradient Descent\", size=18)\n",
    "    plt.show()\n",
    "\n",
    "GradDescS(a_ds)"
   ]
  },
  {
   "cell_type": "markdown",
   "id": "7643e689",
   "metadata": {},
   "source": [
    "**Questão 2**\n",
    "\n",
    "Considere o conjunto de dados disponível em california.csv, organizado em 9 colunas, sendo as 8 primeiras colunas os atributos e a última coluna a saída.\n",
    "Os 8 atributos são usados na predição da mediana de preços de casas em distritos da Califórnia na década de 1990. Maiores detalhes sobre os dados podem ser conferidos em https://scikit-learn.org/stable/datasets/real_world.html#california-housing-dataset.\n",
    "\n",
    "**a)** Aleatoriamente, divida o conjunto de dados em treino (80%) e teste (20%).\n",
    "\n",
    "**b)** Treine 11 modelos de regressão polinomial, com ordens de 1 a 11. Você pode usar o algoritmo OLS.\n",
    "\n",
    "**c)** Reporte o RMSE (raiz quadrada do erro quadrático médio) no treinamento e no teste para cada modelo. Faça um gráfico para o treino e um gráfico para o teste.\n",
    "\n",
    "**d)** Repita os 2 itens anteriores incluindo um termo de regularização L2 (por exemplo, com fator λ = 0.001).\n",
    "Nota: Normalize os dados antes do treinamento e _desnormalize_ antes de calcular o RMSE.\n",
    "\n",
    "\n",
    "**RESOLUÇÃO:**\n",
    "\n",
    "**a)** Aleatoriamente, divida o conjunto de dados em treino (80%) e teste (20%)."
   ]
  },
  {
   "cell_type": "code",
   "execution_count": 18,
   "id": "2f7bd631",
   "metadata": {
    "ExecuteTime": {
     "end_time": "2022-04-27T14:22:12.023142Z",
     "start_time": "2022-04-27T14:22:11.897891Z"
    },
    "code_folding": []
   },
   "outputs": [],
   "source": [
    "#Loding California DataSet\n",
    "ca_ds = np.genfromtxt('./california.csv', delimiter=',')"
   ]
  },
  {
   "cell_type": "code",
   "execution_count": 19,
   "id": "38b97e5e",
   "metadata": {
    "ExecuteTime": {
     "end_time": "2022-04-27T14:22:13.546343Z",
     "start_time": "2022-04-27T14:22:13.537341Z"
    },
    "code_folding": [
     0,
     1
    ]
   },
   "outputs": [],
   "source": [
    "#Normalizing and Desnormalizing the data with Zscore\n",
    "def NormZscore(data):\n",
    "    mean = np.mean(data, axis = 0)\n",
    "    data_int = data - mean\n",
    "    sdt = np.std(data, axis = 0)\n",
    "    data_norm = data_int / sdt\n",
    "\n",
    "    return data_norm, mean, sdt\n",
    "\n",
    "def DesnZscore(data,m,s):\n",
    "    return data * s + m"
   ]
  },
  {
   "cell_type": "code",
   "execution_count": 20,
   "id": "055302a3",
   "metadata": {
    "ExecuteTime": {
     "end_time": "2022-04-27T14:22:18.797353Z",
     "start_time": "2022-04-27T14:22:18.778207Z"
    },
    "code_folding": [
     0,
     1
    ]
   },
   "outputs": [],
   "source": [
    "#Ramdomlyze the Dataset and split it into 80% and 20%\n",
    "def ShurffleandSplit(dataset):\n",
    "    \n",
    "    shuf = np.random.permutation(dataset)\n",
    "    n = shuf.shape[0]\n",
    "\n",
    "    perc_oitenta = int(0.8*n)\n",
    "    perc_vinte = int(0.2*n)\n",
    "    \n",
    "    return perc_oitenta, perc_vinte\n",
    "\n",
    "#Setting the x and y axis as well as calling the shurffle and Split Function;\n",
    "x = ca_ds[:,0:7]\n",
    "y = ca_ds[:,[8]]\n",
    "\n",
    "perc_oitenta, perc_vinte = ShurffleandSplit(np.c_[x, y])"
   ]
  },
  {
   "cell_type": "code",
   "execution_count": 21,
   "id": "02bc65cb",
   "metadata": {
    "ExecuteTime": {
     "end_time": "2022-04-27T14:22:21.021820Z",
     "start_time": "2022-04-27T14:22:20.994374Z"
    },
    "code_folding": [
     0,
     1
    ]
   },
   "outputs": [],
   "source": [
    "#OLS / Normalize and Split the data and train/test and calculationg the RMSE;\n",
    "def OLS(x, y, p8, p2):\n",
    "    xnorm, me, sd = NormZscore(x)\n",
    "    \n",
    "    x_train, x_test = xnorm[0:p8], xnorm[-p2:]\n",
    "    y_train, y_test = y[0:p8], y[-p2:]\n",
    "\n",
    "    onecolumn_train = np.ones(x_train.shape[0])\n",
    "    onecolumn_test = np.ones(x_test.shape[0])\n",
    "\n",
    "    #Constante - 1's\n",
    "    X_train = np.c_[onecolumn_train, x_train]\n",
    "    X_test = np.c_[onecolumn_test, x_test]\n",
    "\n",
    "    w_pred = (np.linalg.inv((X_train.T @ X_train)) @ X_train.T) @ y_train #Theta function;\n",
    "\n",
    "    x_desn_train = DesnZscore(x_train, me, sd)\n",
    "    x_desn_test = DesnZscore(x_test, me, sd)\n",
    "\n",
    "    X_train_des = np.c_[onecolumn_train, x_desn_train]\n",
    "    X_test_des = np.c_[onecolumn_test, x_desn_test]\n",
    "\n",
    "    y_pred_train = X_train_des @ w_pred\n",
    "    y_pred_test = X_test_des @ w_pred\n",
    "\n",
    "    n_train = y_train.shape[0]\n",
    "    n_test = y_test.shape[0]\n",
    "\n",
    "    rmse_train = math.sqrt((1/n_train) * ((y_train - y_pred_train)**2).sum())\n",
    "    rmse_test = math.sqrt((1/n_test) * ((y_test - y_pred_test)**2).sum())\n",
    "    \n",
    "    return rmse_train, rmse_test, w_pred"
   ]
  },
  {
   "cell_type": "markdown",
   "id": "7d3db024",
   "metadata": {},
   "source": [
    "**b)** Treine 11 modelos de regressão polinomial, com ordens de 1 a 11. Você pode usar o algoritmo OLS.\n",
    "\n",
    "**c)** Reporte o RMSE (raiz quadrada do erro quadrático médio) no treinamento e no teste para cada modelo. Faça um gráfico para o treino e um gráfico para o teste."
   ]
  },
  {
   "cell_type": "code",
   "execution_count": 106,
   "id": "998f2f66",
   "metadata": {
    "ExecuteTime": {
     "end_time": "2022-04-27T14:43:16.361742Z",
     "start_time": "2022-04-27T14:43:16.016099Z"
    },
    "code_folding": [
     1
    ],
    "scrolled": false
   },
   "outputs": [
    {
     "data": {
      "image/png": "[encoded data removed]",
      "text/plain": [
       "<Figure size 720x360 with 1 Axes>"
      ]
     },
     "metadata": {
      "needs_background": "light"
     },
     "output_type": "display_data"
    },
    {
     "name": "stdout",
     "output_type": "stream",
     "text": [
      "==================================================\n",
      "Pol\t Train  \t\t Test \n",
      "--------------------------------------------------\n",
      "1 -\t [44.3129989] \t\t- [43.75517524]\n",
      "2 -\t [217680.00646277] \t\t- [95488.59051094]\n",
      "3 -\t [2.15755351e+09] \t\t- [4.0909277e+08]\n",
      "4 -\t [4.08383188e+13] \t\t- [3.09123782e+12]\n",
      "5 -\t [1.0117288e+18] \t\t- [3.22586245e+16]\n",
      "6 -\t [2.88806931e+22] \t\t- [3.95507516e+20]\n",
      "7 -\t [8.64834253e+26] \t\t- [5.12413831e+24]\n",
      "8 -\t [2.61117448e+31] \t\t- [6.713802e+28]\n",
      "9 -\t [7.84809144e+35] \t\t- [8.76824892e+32]\n",
      "10 -\t [2.34093603e+40] \t\t- [1.13714585e+37]\n",
      "11 -\t [6.93030079e+44] \t\t- [1.46413036e+41]\n",
      "--------------------------------------------------\n",
      "Pol\t Train.log \t Test.log\n",
      "1 -\t [1.64653114] - [1.64102943]\n",
      "2 -\t [5.33781854] - [4.97995148]\n",
      "3 -\t [9.33396158] - [8.6118218]\n",
      "4 -\t [13.61106785] - [12.49013242]\n",
      "5 -\t [18.00506411] - [16.50864585]\n",
      "6 -\t [22.46060761] - [20.59715474]\n",
      "7 -\t [26.93693288] - [24.70962084]\n",
      "8 -\t [31.41683589] - [28.82696853]\n",
      "9 -\t [35.89476405] - [32.94291287]\n",
      "10 -\t [40.36938955] - [37.05581617]\n",
      "11 -\t [44.84075208] - [41.16557975]\n",
      "==================================================\n"
     ]
    }
   ],
   "source": [
    "#defining Polinomial Regression\n",
    "def RegPol(x, y, p8, p2):\n",
    "    ols_pol = [OLS(x, y, perc_oitenta, perc_vinte)]\n",
    "\n",
    "    for i in range(2,12):\n",
    "        column_pol = (x)**i\n",
    "\n",
    "        # # #Creating a New Matrix Adding the Polinomial Column at Begin.\n",
    "        ca_ds_n = np.c_[x, column_pol]\n",
    "\n",
    "        # # #Appending The Results - \n",
    "        ols_pol.append(OLS(ca_ds_n, y, perc_oitenta, perc_vinte))\n",
    "\n",
    "    ols_pol = np.array(ols_pol, dtype=object)\n",
    "\n",
    "    rmse_train_all = np.array(ols_pol[:,[0]], dtype=float)\n",
    "    rmse_test_all = np.array(ols_pol[:,[1]], dtype=float)\n",
    "    \n",
    "        \n",
    "    plt.plot(range(1,12), np.log10(rmse_train_all), color='tomato', label='Train')\n",
    "    plt.plot(range(1,12), np.log10(rmse_test_all), color='blue', label='Test')\n",
    "    plt.xlabel(\"Polinom\")\n",
    "    plt.ylabel(\"RMSE\")\n",
    "    plt.rcParams[\"figure.figsize\"] = [10,5]\n",
    "    plt.suptitle(\"Polynomial Regression\", size=18)\n",
    "    plt.legend()\n",
    "    plt.show()\n",
    "    print(\"=\" *50) \n",
    "    print(\"Pol\\t\", \"Train  \\t\\t Test \")\n",
    "    print(\"-\" *50) \n",
    "    for p in range(0,11):\n",
    "        print(p+1, \"-\\t\", rmse_train_all[p], \"\\t\\t-\",  rmse_test_all[p])\n",
    "    print(\"-\" *50)  \n",
    "    print(\"Pol\\t\", \"Train.log \\t Test.log\")\n",
    "   \n",
    "    for p in range(0,11):\n",
    "        print(p+1, \"-\\t\", np.log10(rmse_train_all[p]), \"-\",  np.log10(rmse_test_all[p]))\n",
    "    print(\"=\" *50) \n",
    "RegPol(x, y, perc_oitenta, perc_vinte)"
   ]
  },
  {
   "cell_type": "markdown",
   "id": "baeb9cf5",
   "metadata": {},
   "source": [
    "**d)** Repita os 2 itens anteriores incluindo um termo de regularização L2 (por exemplo, com fator λ = 0.001)."
   ]
  },
  {
   "cell_type": "code",
   "execution_count": 91,
   "id": "674e188d",
   "metadata": {
    "ExecuteTime": {
     "end_time": "2022-04-27T14:36:24.677350Z",
     "start_time": "2022-04-27T14:36:24.657438Z"
    },
    "code_folding": [
     0
    ]
   },
   "outputs": [],
   "source": [
    "def OLSREG(x, y, p8, p2):\n",
    "    l = 0.001\n",
    "    \n",
    "    xnorm, me, sd = NormZscore(x)\n",
    "    \n",
    "    x_train, x_test = xnorm[0:p8], xnorm[-p2:]\n",
    "    y_train, y_test = y[0:p8], y[-p2:]\n",
    "\n",
    "    onecolumn_train = np.ones(x_train.shape[0])\n",
    "    onecolumn_test = np.ones(x_test.shape[0])\n",
    "\n",
    "    #Constante - 1's\n",
    "    X_train = np.c_[onecolumn_train, x_train]\n",
    "    X_test = np.c_[onecolumn_test, x_test]\n",
    "    \n",
    "    m_identity = np.identity(X_train.shape[1])\n",
    "    m_identity[0,0] = 0\n",
    "    \n",
    "    w_pred = (np.linalg.inv((X_train.T @ X_train + l*m_identity)) @ X_train.T) @ y_train #Theta function;\n",
    "\n",
    "    x_desn_train = DesnZscore(x_train, me, sd)\n",
    "    x_desn_test = DesnZscore(x_test, me, sd)\n",
    "\n",
    "    X_train_des = np.c_[onecolumn_train, x_desn_train]\n",
    "    X_test_des = np.c_[onecolumn_test, x_desn_test]\n",
    "\n",
    "    y_pred_train = X_train_des @ w_pred\n",
    "    y_pred_test = X_test_des @ w_pred\n",
    "\n",
    "    n_train = y_train.shape[0]\n",
    "    n_test = y_test.shape[0]\n",
    "\n",
    "    rmse_train = math.sqrt((1/n_train) * ((y_train - y_pred_train)**2).sum())\n",
    "    rmse_test = math.sqrt((1/n_test) * ((y_test - y_pred_test)**2).sum())\n",
    "    \n",
    "    return rmse_train, rmse_test, w_pred"
   ]
  },
  {
   "cell_type": "code",
   "execution_count": 107,
   "id": "c139b8f5",
   "metadata": {
    "ExecuteTime": {
     "end_time": "2022-04-27T14:43:46.555664Z",
     "start_time": "2022-04-27T14:43:46.229438Z"
    },
    "code_folding": [
     0,
     4
    ]
   },
   "outputs": [
    {
     "data": {
      "image/png": "[encoded data removed]",
      "text/plain": [
       "<Figure size 720x360 with 1 Axes>"
      ]
     },
     "metadata": {
      "needs_background": "light"
     },
     "output_type": "display_data"
    },
    {
     "name": "stdout",
     "output_type": "stream",
     "text": [
      "==================================================\n",
      "Pol\t Train  \t\t Test \n",
      "--------------------------------------------------\n",
      "1 -\t [44.31297821] \t\t- [43.7551548]\n",
      "2 -\t [217608.9427044] \t\t- [95454.49468082]\n",
      "3 -\t [2.15668563e+09] \t\t- [4.08927945e+08]\n",
      "4 -\t [4.08198832e+13] \t\t- [3.08984234e+12]\n",
      "5 -\t [1.01126728e+18] \t\t- [3.22439089e+16]\n",
      "6 -\t [2.88683181e+22] \t\t- [3.95338047e+20]\n",
      "7 -\t [8.64492699e+26] \t\t- [5.1221146e+24]\n",
      "8 -\t [2.61021919e+31] \t\t- [6.71134577e+28]\n",
      "9 -\t [7.84540125e+35] \t\t- [8.76524332e+32]\n",
      "10 -\t [2.34017539e+40] \t\t- [1.13677636e+37]\n",
      "11 -\t [6.92814411e+44] \t\t- [1.46367473e+41]\n",
      "--------------------------------------------------\n",
      "Pol\t Train.log  \t\t Test.log \n",
      "1 -\t [1.64653094] \t\t- [1.64102922]\n",
      "2 -\t [5.33767674] \t\t- [4.97979638]\n",
      "3 -\t [9.33378684] \t\t- [8.61164679]\n",
      "4 -\t [13.61087176] \t\t- [12.48993632]\n",
      "5 -\t [18.00486595] \t\t- [16.50844769]\n",
      "6 -\t [22.46042148] \t\t- [20.59696861]\n",
      "7 -\t [26.93676133] \t\t- [24.70944929]\n",
      "8 -\t [31.41667698] \t\t- [28.82680961]\n",
      "9 -\t [35.89461516] \t\t- [32.94276398]\n",
      "10 -\t [40.36924841] \t\t- [37.05567503]\n",
      "11 -\t [44.84061691] \t\t- [41.16544458]\n"
     ]
    }
   ],
   "source": [
    "#defining Polinomial Regression with L2\n",
    "def RegPolL2(x, y, p8, p2):\n",
    "    ols_pol_reg = [OLSREG(x, y, p8, p2)]\n",
    "\n",
    "    for i in range(2,12):\n",
    "        column_pol_reg = (x)**i\n",
    "\n",
    "        # # #Creating a New Matrix Adding the Polinomial Column at Begin.\n",
    "        ca_ds_n_reg = np.c_[x, column_pol_reg]\n",
    "\n",
    "        # # #Appending The Results - \n",
    "        ols_pol_reg.append(OLSREG(ca_ds_n_reg, y, perc_oitenta, perc_vinte))\n",
    "\n",
    "    ols_pol_reg = np.array(ols_pol_reg, dtype=object)\n",
    "\n",
    "    rmse_train_all_reg = np.array(ols_pol_reg[:,[0]], dtype=float)\n",
    "    rmse_test_all_reg = np.array(ols_pol_reg[:,[1]], dtype=float)\n",
    "\n",
    "    plt.plot(range(1,12), np.log10(rmse_train_all_reg), color='tomato', label='Train')\n",
    "    plt.plot(range(1,12), np.log10(rmse_test_all_reg), color='blue', label='Test')\n",
    "    plt.xlabel(\"Polinom\")\n",
    "    plt.ylabel(\"RMSE\")\n",
    "    plt.rcParams[\"figure.figsize\"] = [10,5]\n",
    "    plt.suptitle(\"Polynomial Regression L2\", size=18)\n",
    "    plt.legend()\n",
    "    plt.show()\n",
    "    print('='*50)\n",
    "    print(\"Pol\\t\", \"Train  \\t\\t Test \")\n",
    "    \n",
    "    print('-'*50)\n",
    "    for p2 in range(0,11):\n",
    "        print(p2+1, \"-\\t\", rmse_train_all_reg[p2], \"\\t\\t-\",  rmse_test_all_reg[p2])\n",
    "    print('-'*50)\n",
    "    print(\"Pol\\t\", \"Train.log  \\t\\t Test.log \")\n",
    "    for p2 in range(0,11):\n",
    "        print(p2+1, \"-\\t\", np.log10(rmse_train_all_reg[p2]), \"\\t\\t-\",  np.log10(rmse_test_all_reg[p2]))\n",
    "RegPolL2(x, y, perc_oitenta, perc_vinte)"
   ]
  },
  {
   "cell_type": "code",
   "execution_count": null,
   "id": "31b6887d",
   "metadata": {},
   "outputs": [],
   "source": []
  }
 ],
 "metadata": {
  "gist": {
   "data": {
    "description": "Machine Learning - Lista01.ipynb",
    "public": true
   },
   "id": ""
  },
  "kernelspec": {
   "display_name": "Python 3 (ipykernel)",
   "language": "python",
   "name": "python3"
  },
  "language_info": {
   "codemirror_mode": {
    "name": "ipython",
    "version": 3
   },
   "file_extension": ".py",
   "mimetype": "text/x-python",
   "name": "python",
   "nbconvert_exporter": "python",
   "pygments_lexer": "ipython3",
   "version": "3.9.7"
  },
  "latex_envs": {
   "LaTeX_envs_menu_present": true,
   "autoclose": false,
   "autocomplete": true,
   "bibliofile": "biblio.bib",
   "cite_by": "apalike",
   "current_citInitial": 1,
   "eqLabelWithNumbers": true,
   "eqNumInitial": 1,
   "hotkeys": {
    "equation": "Ctrl-E",
    "itemize": "Ctrl-I"
   },
   "labels_anchors": false,
   "latex_user_defs": false,
   "report_style_numbering": false,
   "user_envs_cfg": false
  }
 },
 "nbformat": 4,
 "nbformat_minor": 5
}
