{
 "cells": [
  {
   "cell_type": "code",
   "execution_count": 43,
   "id": "475dbba2",
   "metadata": {
    "ExecuteTime": {
     "end_time": "2022-06-27T20:36:29.230886Z",
     "start_time": "2022-06-27T20:36:29.220956Z"
    }
   },
   "outputs": [],
   "source": [
    "import numpy as np\n",
    "import matplotlib.pyplot as plt\n",
    "from sklearn.model_selection import train_test_split, GridSearchCV \n",
    "from sklearn import metrics, model_selection, svm\n",
    "from sklearn.metrics import roc_curve\n",
    "from sklearn.metrics import RocCurveDisplay\n",
    "from sklearn.metrics import PrecisionRecallDisplay\n",
    "from sklearn.ensemble import RandomForestClassifier\n",
    "from scipy import stats"
   ]
  },
  {
   "cell_type": "code",
   "execution_count": 39,
   "id": "f69dba25",
   "metadata": {
    "ExecuteTime": {
     "end_time": "2022-06-27T20:36:04.194992Z",
     "start_time": "2022-06-27T20:36:04.181989Z"
    },
    "code_folding": [
     0,
     8,
     33
    ]
   },
   "outputs": [],
   "source": [
    "def NormZscore(data):\n",
    "    mean = np.mean(data, axis = 0)\n",
    "    data_int = data - mean\n",
    "    sdt = np.std(data, axis = 0)\n",
    "    data_norm = data_int / sdt\n",
    "\n",
    "    return data_norm, mean, sdt\n",
    "\n",
    "def DesnZscore(data,m,s):\n",
    "    return data * s + m\n",
    "\n",
    "def metrics(y, y_pred):\n",
    "\n",
    "    y = y.astype('bool')\n",
    "    y_pred = y_pred.astype('bool')\n",
    "\n",
    "    TP = sum(y & y_pred) \n",
    "    TN = sum(~y & ~y_pred)\n",
    "    FP = sum(~y & y_pred)\n",
    "    FN = sum(y & ~y_pred)\n",
    "\n",
    "    precision = TP / (TP + FP)\n",
    "    accuracy = (TP + TN)/(TP + FP + TN + FN)\n",
    "    recall = TP /(TP+FN)\n",
    "    f1 = 2*(precision * recall)/(precision + recall)\n",
    "    cm = np.array([[ TP, TN ], [ FP, FN ]])\n",
    "\n",
    "    if np.isnan(precision):\n",
    "        precision = 0\n",
    "    if np.isnan(accuracy):\n",
    "        accuracy = 0\n",
    "    if np.isnan(recall):\n",
    "        recall = 0\n",
    "    if np.isnan(f1):\n",
    "        f1 = 0\n",
    "    \n",
    "    print(\"acurácia: %.8f\" % accuracy)\n",
    "    print(\"revocação: %.8f\" % precision)\n",
    "    print(\"precisão: %.8f\" % recall)\n",
    "    print(\"f1-score: %.8f\" % f1)\n",
    "    print(\"\")\n",
    "    \n",
    "    return precision, accuracy, recall, f1"
   ]
  },
  {
   "cell_type": "code",
   "execution_count": 3,
   "id": "b32d4104",
   "metadata": {
    "ExecuteTime": {
     "end_time": "2022-06-27T20:17:52.013799Z",
     "start_time": "2022-06-27T20:17:51.966041Z"
    }
   },
   "outputs": [],
   "source": [
    "calif_data = np.genfromtxt('./californiabin.csv', delimiter=',')\n",
    "np.random.seed(666)\n",
    "feat = np.arange(8)\n",
    "lab = 8\n",
    "\n",
    "X = calif_data[:,0:8]\n",
    "y = calif_data[:,8]"
   ]
  },
  {
   "cell_type": "code",
   "execution_count": 4,
   "id": "96943b2f",
   "metadata": {
    "ExecuteTime": {
     "end_time": "2022-06-27T20:17:53.909243Z",
     "start_time": "2022-06-27T20:17:53.894046Z"
    }
   },
   "outputs": [],
   "source": [
    "X_train, X_test, y_train, y_test = train_test_split(X, y, test_size=0.3)"
   ]
  },
  {
   "cell_type": "code",
   "execution_count": 5,
   "id": "98032afa",
   "metadata": {
    "ExecuteTime": {
     "end_time": "2022-06-27T20:26:57.619978Z",
     "start_time": "2022-06-27T20:18:37.814476Z"
    }
   },
   "outputs": [],
   "source": [
    "parameters = {\n",
    "    \n",
    "    'C' : np.logspace(-5, 15, num=15-5+1, base=2),\n",
    "    'gamma': [2**-15, 2**-13, 2**-11, 2**-9, 2**-7, 2**-5, 2**-3, 2**-1, 2, 2**2, 2**3]\n",
    "\n",
    "}\n",
    "\n",
    "svm = svm.SVC(kernel='rbf')\n",
    "grid_svm = GridSearchCV(svm, cv=10, param_grid=parameters)\n",
    "grid_svm.fit(X_train, y_train)\n",
    "y_pred = grid_svm.predict(X_test)"
   ]
  },
  {
   "cell_type": "code",
   "execution_count": 6,
   "id": "8c795cfa",
   "metadata": {
    "ExecuteTime": {
     "end_time": "2022-06-27T20:26:57.635872Z",
     "start_time": "2022-06-27T20:26:57.620868Z"
    }
   },
   "outputs": [
    {
     "name": "stdout",
     "output_type": "stream",
     "text": [
      "Modelo: SVM\n",
      "------------------------------\n",
      "Chosen Hiperparameters:  {'C': 8192.0, 'gamma': 3.0517578125e-05}\n",
      "acurácia: 0.80888889\n",
      "revocação: 0.79302832\n",
      "precisão: 0.82539683\n",
      "f1-score: 0.80888889\n",
      "\n",
      "(0.7930283224400871, 0.8088888888888889, 0.8253968253968254, 0.8088888888888889)\n",
      "------------------------------\n"
     ]
    }
   ],
   "source": [
    "print(\"Modelo: SVM\")\n",
    "print(\"-\" * 30)\n",
    "print(\"Chosen Hiperparameters: \", grid_svm.best_params_)\n",
    "print(metrics(y_test,y_pred))\n",
    "print(\"-\" * 30)"
   ]
  },
  {
   "cell_type": "code",
   "execution_count": 23,
   "id": "f48176ba",
   "metadata": {
    "ExecuteTime": {
     "end_time": "2022-06-27T20:31:21.299627Z",
     "start_time": "2022-06-27T20:31:21.225514Z"
    }
   },
   "outputs": [
    {
     "name": "stdout",
     "output_type": "stream",
     "text": [
      "Modelo: SVM - ROC\n",
      "------------------------------\n"
     ]
    },
    {
     "data": {
      "image/png": "[encoded data removed]",
      "text/plain": [
       "<Figure size 432x288 with 1 Axes>"
      ]
     },
     "metadata": {
      "needs_background": "light"
     },
     "output_type": "display_data"
    }
   ],
   "source": [
    "print(\"Modelo: SVM - ROC\")\n",
    "print(\"-\" * 30)\n",
    "fpr, tpr, _ = roc_curve(y_test, y_pred)\n",
    "roc_display = RocCurveDisplay(fpr=fpr, tpr=tpr).plot()\n",
    "plt.show()\n"
   ]
  },
  {
   "cell_type": "code",
   "execution_count": 25,
   "id": "0f387197",
   "metadata": {
    "ExecuteTime": {
     "end_time": "2022-06-27T20:31:30.522301Z",
     "start_time": "2022-06-27T20:31:30.385095Z"
    }
   },
   "outputs": [
    {
     "name": "stdout",
     "output_type": "stream",
     "text": [
      "Modelo: SVM - Prec_Rec Curve\n"
     ]
    },
    {
     "data": {
      "image/png": "[encoded data removed]",
      "text/plain": [
       "<Figure size 432x288 with 1 Axes>"
      ]
     },
     "metadata": {
      "needs_background": "light"
     },
     "output_type": "display_data"
    }
   ],
   "source": [
    "print(\"Modelo: SVM - Prec_Rec Curve\")\n",
    "\n",
    "precision_, recall_, _ = metrics.precision_recall_curve(y_test, y_pred)\n",
    "display = metrics.PrecisionRecallDisplay(precision_, recall_, estimator_name=\"SVM\")\n",
    "display.plot()\n",
    "plt.show()"
   ]
  },
  {
   "cell_type": "code",
   "execution_count": 26,
   "id": "ee57c147",
   "metadata": {
    "ExecuteTime": {
     "end_time": "2022-06-27T20:34:31.247292Z",
     "start_time": "2022-06-27T20:31:53.424736Z"
    },
    "scrolled": true
   },
   "outputs": [
    {
     "data": {
      "text/plain": [
       "GridSearchCV(cv=10, estimator=RandomForestClassifier(),\n",
       "             param_grid={'max_depth': [2, 4, 6, 8, None],\n",
       "                         'n_estimators': array([ 10,  20,  30,  40,  50,  60,  70,  80,  90, 100, 110, 120, 130,\n",
       "       140, 150, 160, 170, 180, 190, 200])})"
      ]
     },
     "execution_count": 26,
     "metadata": {},
     "output_type": "execute_result"
    }
   ],
   "source": [
    "parameters_ = {\n",
    " \n",
    "    'n_estimators' : np.arange(10, 210, step=10),\n",
    "    'max_depth': [2, 4, 6, 8, None]\n",
    "\n",
    "}\n",
    "\n",
    "rf = RandomForestClassifier()\n",
    "gridRf = GridSearchCV(rf, cv=10, param_grid=parameters_)\n",
    "gridRf.fit(X_train, y_train)"
   ]
  },
  {
   "cell_type": "code",
   "execution_count": 31,
   "id": "615abdc8",
   "metadata": {
    "ExecuteTime": {
     "end_time": "2022-06-27T20:35:02.360257Z",
     "start_time": "2022-06-27T20:35:02.323272Z"
    }
   },
   "outputs": [],
   "source": [
    "y_pred = gridRf.predict(X_test)"
   ]
  },
  {
   "cell_type": "code",
   "execution_count": 41,
   "id": "733750f3",
   "metadata": {
    "ExecuteTime": {
     "end_time": "2022-06-27T20:36:15.019848Z",
     "start_time": "2022-06-27T20:36:15.005884Z"
    }
   },
   "outputs": [
    {
     "name": "stdout",
     "output_type": "stream",
     "text": [
      "Model: Random Forest\n",
      "------------------------------\n",
      "Chosen Hiperparameters:  {'max_depth': None, 'n_estimators': 120}\n",
      "acurácia: 0.89555556\n",
      "revocação: 0.88641425\n",
      "precisão: 0.90249433\n",
      "f1-score: 0.89438202\n",
      "\n",
      "(0.8864142538975501, 0.8955555555555555, 0.9024943310657596, 0.89438202247191)\n",
      "------------------------------\n"
     ]
    }
   ],
   "source": [
    "print(\"Model: Random Forest\")\n",
    "print(\"-\" * 30)\n",
    "print(\"Chosen Hiperparameters: \", gridRf.best_params_)\n",
    "print(metrics(y_test, y_pred))\n",
    "print(\"-\" * 30)"
   ]
  },
  {
   "cell_type": "code",
   "execution_count": 44,
   "id": "a04a4f76",
   "metadata": {
    "ExecuteTime": {
     "end_time": "2022-06-27T20:36:32.228706Z",
     "start_time": "2022-06-27T20:36:32.086415Z"
    }
   },
   "outputs": [
    {
     "name": "stdout",
     "output_type": "stream",
     "text": [
      "Model: Random Forest - ROC\n",
      "------------------------------\n"
     ]
    },
    {
     "data": {
      "image/png": "[encoded data removed]",
      "text/plain": [
       "<Figure size 432x288 with 1 Axes>"
      ]
     },
     "metadata": {
      "needs_background": "light"
     },
     "output_type": "display_data"
    },
    {
     "name": "stdout",
     "output_type": "stream",
     "text": [
      "Modelo: SVM - Prec_Rec Curve\n"
     ]
    },
    {
     "data": {
      "image/png": "[encoded data removed]",
      "text/plain": [
       "<Figure size 432x288 with 1 Axes>"
      ]
     },
     "metadata": {
      "needs_background": "light"
     },
     "output_type": "display_data"
    }
   ],
   "source": [
    "print(\"Model: Random Forest - ROC\")\n",
    "print(\"-\" * 30)\n",
    "\n",
    "fpr, tpr, _ = roc_curve(y_test, y_pred)\n",
    "roc_display = RocCurveDisplay(fpr=fpr, tpr=tpr).plot()\n",
    "plt.show()\n",
    "\n",
    "print(\"Modelo: SVM - Prec_Rec Curve\")\n",
    "\n",
    "precision_, recall_, _ = metrics.precision_recall_curve(y_test, y_pred)\n",
    "display = metrics.PrecisionRecallDisplay(precision_, recall_, estimator_name=\"Random Forest\")\n",
    "display.plot()\n",
    "plt.show()"
   ]
  }
 ],
 "metadata": {
  "kernelspec": {
   "display_name": "Python 3 (ipykernel)",
   "language": "python",
   "name": "python3"
  },
  "language_info": {
   "codemirror_mode": {
    "name": "ipython",
    "version": 3
   },
   "file_extension": ".py",
   "mimetype": "text/x-python",
   "name": "python",
   "nbconvert_exporter": "python",
   "pygments_lexer": "ipython3",
   "version": "3.9.7"
  },
  "latex_envs": {
   "LaTeX_envs_menu_present": true,
   "autoclose": false,
   "autocomplete": true,
   "bibliofile": "biblio.bib",
   "cite_by": "apalike",
   "current_citInitial": 1,
   "eqLabelWithNumbers": true,
   "eqNumInitial": 1,
   "hotkeys": {
    "equation": "Ctrl-E",
    "itemize": "Ctrl-I"
   },
   "labels_anchors": false,
   "latex_user_defs": false,
   "report_style_numbering": false,
   "user_envs_cfg": false
  }
 },
 "nbformat": 4,
 "nbformat_minor": 5
}
