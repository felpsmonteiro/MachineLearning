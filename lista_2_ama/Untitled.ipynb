{
 "cells": [
  {
   "cell_type": "code",
   "execution_count": 1,
   "metadata": {},
   "outputs": [],
   "source": [
    "                        #PREDITO\n",
    "                #CLASSE 0     #CLASSE 1\n",
    "    #CLASSE 0       TP           FN\n",
    "#REAL\n",
    "    #CLASSE 1       FP           TN\n",
    "    \n",
    "#PRECISAO = TP/(TP+FP)\n",
    "def precision(actual, predicted):\n",
    "    tp = 0\n",
    "    den = 0\n",
    "    for i in range(len(actual)):\n",
    "        if(predicted[i] == 0):\n",
    "            den += 1\n",
    "        if(actual[i] == 0 and predicted[i] == 0):\n",
    "            tp += 1\n",
    "    return tp/den\n",
    "\n",
    "#REVOCAÇÃO = TP/(TP+FN)\n",
    "def recall(actual, predicted):\n",
    "    tp = 0\n",
    "    den = 0\n",
    "    for i in range(len(actual)):\n",
    "        if(actual[i] == 0):\n",
    "            den += 1\n",
    "        if(actual[i] == 0 and predicted[i] == 0):\n",
    "            tp += 1\n",
    "    return tp/den\n",
    "\n",
    "#F1-SCORE =  2*(Recall * Precision) / (Recall + Precision)\n",
    "def f1_score(actual, predicted):\n",
    "    prec = precision(actual, predicted)\n",
    "    rec = recall(actual, predicted)\n",
    "    return 2*(rec*prec)/(rec+prec)"
   ]
  },
  {
   "cell_type": "code",
   "execution_count": 2,
   "metadata": {},
   "outputs": [
    {
     "ename": "SyntaxError",
     "evalue": "invalid syntax (<ipython-input-2-a6467aa51878>, line 6)",
     "output_type": "error",
     "traceback": [
      "\u001b[1;36m  File \u001b[1;32m\"<ipython-input-2-a6467aa51878>\"\u001b[1;36m, line \u001b[1;32m6\u001b[0m\n\u001b[1;33m    metricsLR[i,:] = [accuracy(, predictsLR[i]), precision(, predictsLR[i]), recall(, predictsLR[i]), f1_score(, predictsLR[i])]\u001b[0m\n\u001b[1;37m                               ^\u001b[0m\n\u001b[1;31mSyntaxError\u001b[0m\u001b[1;31m:\u001b[0m invalid syntax\n"
     ]
    }
   ],
   "source": [
    "metricsLR = np.zeros((k, 4))\n",
    "metricsADG = np.zeros((k, 4))\n",
    "metricsNB = np.zeros((k, 4))\n",
    "\n",
    "for i in range(k):\n",
    "    metricsLR[i,:] = [acc(traintest[i][3], predictsLR[i]), precision(traintest[i][3], predictsLR[i]), recall(traintest[i][3], predictsLR[i]), f1_score(traintest[i][3], predictsLR[i])]\n",
    "    metricsADG[i,:] = [acc(traintest[i][3], predictsADG[i]), precision(traintest[i][3], predictsADG[i]), recall(traintest[i][3], predictsADG[i]), f1_score(traintest[i][3], predictsADG[i])]\n",
    "    metricsNB[i,:] = [acc(traintest[i][3], predictsNB[i]), precision(traintest[i][3], predictsNB[i]), recall(traintest[i][3], predictsNB[i]), f1_score(traintest[i][3], predictsNB[i])]"
   ]
  },
  {
   "cell_type": "code",
   "execution_count": 20,
   "metadata": {},
   "outputs": [
    {
     "ename": "NameError",
     "evalue": "name 'metricsLR' is not defined",
     "output_type": "error",
     "traceback": [
      "\u001b[1;31m---------------------------------------------------------------------------\u001b[0m",
      "\u001b[1;31mNameError\u001b[0m                                 Traceback (most recent call last)",
      "\u001b[1;32m<ipython-input-20-0aca4bc4b443>\u001b[0m in \u001b[0;36m<module>\u001b[1;34m\u001b[0m\n\u001b[1;32m----> 1\u001b[1;33m \u001b[0mmeanLR\u001b[0m \u001b[1;33m=\u001b[0m \u001b[0mnp\u001b[0m\u001b[1;33m.\u001b[0m\u001b[0mmean\u001b[0m\u001b[1;33m(\u001b[0m\u001b[0mmetricsLR\u001b[0m\u001b[1;33m,\u001b[0m \u001b[0maxis\u001b[0m \u001b[1;33m=\u001b[0m \u001b[1;36m0\u001b[0m\u001b[1;33m)\u001b[0m\u001b[1;33m\u001b[0m\u001b[1;33m\u001b[0m\u001b[0m\n\u001b[0m\u001b[0;32m      2\u001b[0m \u001b[0mmeanADG\u001b[0m \u001b[1;33m=\u001b[0m \u001b[0mnp\u001b[0m\u001b[1;33m.\u001b[0m\u001b[0mmean\u001b[0m\u001b[1;33m(\u001b[0m\u001b[0mmetricsADG\u001b[0m\u001b[1;33m,\u001b[0m \u001b[0maxis\u001b[0m \u001b[1;33m=\u001b[0m \u001b[1;36m0\u001b[0m\u001b[1;33m)\u001b[0m\u001b[1;33m\u001b[0m\u001b[1;33m\u001b[0m\u001b[0m\n\u001b[0;32m      3\u001b[0m \u001b[0mmeanNB\u001b[0m \u001b[1;33m=\u001b[0m \u001b[0mnp\u001b[0m\u001b[1;33m.\u001b[0m\u001b[0mmean\u001b[0m\u001b[1;33m(\u001b[0m\u001b[0mmetricsNB\u001b[0m\u001b[1;33m,\u001b[0m \u001b[0maxis\u001b[0m \u001b[1;33m=\u001b[0m \u001b[1;36m0\u001b[0m\u001b[1;33m)\u001b[0m\u001b[1;33m\u001b[0m\u001b[1;33m\u001b[0m\u001b[0m\n\u001b[0;32m      4\u001b[0m \u001b[1;33m\u001b[0m\u001b[0m\n\u001b[0;32m      5\u001b[0m \u001b[0mstdLR\u001b[0m \u001b[1;33m=\u001b[0m \u001b[0mnp\u001b[0m\u001b[1;33m.\u001b[0m\u001b[0mstd\u001b[0m\u001b[1;33m(\u001b[0m\u001b[0mmetricsLR\u001b[0m\u001b[1;33m,\u001b[0m \u001b[0maxis\u001b[0m \u001b[1;33m=\u001b[0m \u001b[1;36m0\u001b[0m\u001b[1;33m)\u001b[0m\u001b[1;33m\u001b[0m\u001b[1;33m\u001b[0m\u001b[0m\n",
      "\u001b[1;31mNameError\u001b[0m: name 'metricsLR' is not defined"
     ]
    }
   ],
   "source": [
    "meanLR = np.mean(metricsLR, axis = 0)\n",
    "meanADG = np.mean(metricsADG, axis = 0)\n",
    "meanNB = np.mean(metricsNB, axis = 0)\n",
    "\n",
    "stdLR = np.std(metricsLR, axis = 0)\n",
    "stdADG = np.std(metricsADG, axis = 0)\n",
    "stdNB = np.std(metricsNB, axis = 0)"
   ]
  },
  {
   "cell_type": "code",
   "execution_count": null,
   "metadata": {},
   "outputs": [],
   "source": []
  }
 ],
 "metadata": {
  "kernelspec": {
   "display_name": "Python 3 (ipykernel)",
   "language": "python",
   "name": "python3"
  },
  "language_info": {
   "codemirror_mode": {
    "name": "ipython",
    "version": 3
   },
   "file_extension": ".py",
   "mimetype": "text/x-python",
   "name": "python",
   "nbconvert_exporter": "python",
   "pygments_lexer": "ipython3",
   "version": "3.9.7"
  },
  "latex_envs": {
   "LaTeX_envs_menu_present": true,
   "autoclose": false,
   "autocomplete": true,
   "bibliofile": "biblio.bib",
   "cite_by": "apalike",
   "current_citInitial": 1,
   "eqLabelWithNumbers": true,
   "eqNumInitial": 1,
   "hotkeys": {
    "equation": "Ctrl-E",
    "itemize": "Ctrl-I"
   },
   "labels_anchors": false,
   "latex_user_defs": false,
   "report_style_numbering": false,
   "user_envs_cfg": false
  }
 },
 "nbformat": 4,
 "nbformat_minor": 2
}
